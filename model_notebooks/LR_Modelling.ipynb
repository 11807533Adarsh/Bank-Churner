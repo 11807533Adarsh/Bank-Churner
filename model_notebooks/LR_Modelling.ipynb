{
  "nbformat": 4,
  "nbformat_minor": 0,
  "metadata": {
    "colab": {
      "name": "LR_Modelling.ipynb",
      "provenance": []
    },
    "kernelspec": {
      "name": "python3",
      "display_name": "Python 3"
    },
    "language_info": {
      "name": "python"
    }
  },
  "cells": [
    {
      "cell_type": "code",
      "execution_count": null,
      "metadata": {
        "colab": {
          "base_uri": "https://localhost:8080/"
        },
        "id": "kiZ0PNrSmue8",
        "outputId": "c0203f15-cd9e-4867-88b7-d704e42c5f6b"
      },
      "outputs": [
        {
          "output_type": "stream",
          "name": "stdout",
          "text": [
            "Requirement already satisfied: imblearn in /usr/local/lib/python3.7/dist-packages (0.0)\n",
            "Requirement already satisfied: imbalanced-learn in /usr/local/lib/python3.7/dist-packages (from imblearn) (0.8.1)\n",
            "Requirement already satisfied: joblib>=0.11 in /usr/local/lib/python3.7/dist-packages (from imbalanced-learn->imblearn) (1.1.0)\n",
            "Requirement already satisfied: scipy>=0.19.1 in /usr/local/lib/python3.7/dist-packages (from imbalanced-learn->imblearn) (1.4.1)\n",
            "Requirement already satisfied: numpy>=1.13.3 in /usr/local/lib/python3.7/dist-packages (from imbalanced-learn->imblearn) (1.21.5)\n",
            "Requirement already satisfied: scikit-learn>=0.24 in /usr/local/lib/python3.7/dist-packages (from imbalanced-learn->imblearn) (1.0.2)\n",
            "Requirement already satisfied: threadpoolctl>=2.0.0 in /usr/local/lib/python3.7/dist-packages (from scikit-learn>=0.24->imbalanced-learn->imblearn) (3.1.0)\n"
          ]
        }
      ],
      "source": [
        "!pip install imblearn\n",
        "import os\n",
        "import pandas as pd\n",
        "import numpy as np\n",
        "\n",
        "# Matplotlib for visualization\n",
        "from matplotlib import pyplot as plt\n",
        "\n",
        "# display plots in the notebook\n",
        "%matplotlib inline\n",
        "\n",
        "# Seaborn for easier visualization\n",
        "import seaborn as sns\n",
        "### sns.set_style('darkgrid')\n",
        "# store elements as dictionary keys and their counts as dictionary values\n",
        "from collections import Counter\n",
        "\n",
        "# scikit-learn\n",
        "from sklearn.model_selection import train_test_split\n",
        "from sklearn.preprocessing import MinMaxScaler, OneHotEncoder, LabelEncoder\n",
        "from sklearn.compose import ColumnTransformer, make_column_transformer\n",
        "from sklearn.pipeline import make_pipeline\n",
        "\n",
        "# Classification metrics\n",
        "from sklearn.metrics import confusion_matrix, classification_report\n",
        "# Function for creating model pipelines - sklearn\n",
        "from sklearn.pipeline import make_pipeline\n",
        "# Function for creating model pipelines - imblearn\n",
        "from imblearn.pipeline import make_pipeline as imbl_pipe\n",
        "# Over-sampling using SMOTE\n",
        "from imblearn.over_sampling import SMOTE"
      ]
    },
    {
      "cell_type": "code",
      "source": [
        "abt = pd.read_csv(\"analytical_base_table.csv\")\n",
        "abt.head()"
      ],
      "metadata": {
        "colab": {
          "base_uri": "https://localhost:8080/",
          "height": 206
        },
        "id": "E_03-gXYm5Tg",
        "outputId": "6e69b7c9-e01f-4bfc-b024-fcb192edb092"
      },
      "execution_count": null,
      "outputs": [
        {
          "output_type": "execute_result",
          "data": {
            "text/plain": [
              "   CreditScore Geography  Gender  Age  Tenure    Balance  NumOfProducts  \\\n",
              "0          619    France  Female   42       2       0.00              1   \n",
              "1          608     Spain  Female   41       1   83807.86              1   \n",
              "2          502    France  Female   42       8  159660.80              3   \n",
              "3          699    France  Female   39       1       0.00              2   \n",
              "4          850     Spain  Female   43       2  125510.82              1   \n",
              "\n",
              "   HasCrCard  IsActiveMember  EstimatedSalary  Exited  \n",
              "0          1               1        101348.88       1  \n",
              "1          0               1        112542.58       0  \n",
              "2          1               0        113931.57       1  \n",
              "3          0               0         93826.63       0  \n",
              "4          1               1         79084.10       0  "
            ],
            "text/html": [
              "\n",
              "  <div id=\"df-1f0299e3-e859-42ab-a11b-9b10b9f7517c\">\n",
              "    <div class=\"colab-df-container\">\n",
              "      <div>\n",
              "<style scoped>\n",
              "    .dataframe tbody tr th:only-of-type {\n",
              "        vertical-align: middle;\n",
              "    }\n",
              "\n",
              "    .dataframe tbody tr th {\n",
              "        vertical-align: top;\n",
              "    }\n",
              "\n",
              "    .dataframe thead th {\n",
              "        text-align: right;\n",
              "    }\n",
              "</style>\n",
              "<table border=\"1\" class=\"dataframe\">\n",
              "  <thead>\n",
              "    <tr style=\"text-align: right;\">\n",
              "      <th></th>\n",
              "      <th>CreditScore</th>\n",
              "      <th>Geography</th>\n",
              "      <th>Gender</th>\n",
              "      <th>Age</th>\n",
              "      <th>Tenure</th>\n",
              "      <th>Balance</th>\n",
              "      <th>NumOfProducts</th>\n",
              "      <th>HasCrCard</th>\n",
              "      <th>IsActiveMember</th>\n",
              "      <th>EstimatedSalary</th>\n",
              "      <th>Exited</th>\n",
              "    </tr>\n",
              "  </thead>\n",
              "  <tbody>\n",
              "    <tr>\n",
              "      <th>0</th>\n",
              "      <td>619</td>\n",
              "      <td>France</td>\n",
              "      <td>Female</td>\n",
              "      <td>42</td>\n",
              "      <td>2</td>\n",
              "      <td>0.00</td>\n",
              "      <td>1</td>\n",
              "      <td>1</td>\n",
              "      <td>1</td>\n",
              "      <td>101348.88</td>\n",
              "      <td>1</td>\n",
              "    </tr>\n",
              "    <tr>\n",
              "      <th>1</th>\n",
              "      <td>608</td>\n",
              "      <td>Spain</td>\n",
              "      <td>Female</td>\n",
              "      <td>41</td>\n",
              "      <td>1</td>\n",
              "      <td>83807.86</td>\n",
              "      <td>1</td>\n",
              "      <td>0</td>\n",
              "      <td>1</td>\n",
              "      <td>112542.58</td>\n",
              "      <td>0</td>\n",
              "    </tr>\n",
              "    <tr>\n",
              "      <th>2</th>\n",
              "      <td>502</td>\n",
              "      <td>France</td>\n",
              "      <td>Female</td>\n",
              "      <td>42</td>\n",
              "      <td>8</td>\n",
              "      <td>159660.80</td>\n",
              "      <td>3</td>\n",
              "      <td>1</td>\n",
              "      <td>0</td>\n",
              "      <td>113931.57</td>\n",
              "      <td>1</td>\n",
              "    </tr>\n",
              "    <tr>\n",
              "      <th>3</th>\n",
              "      <td>699</td>\n",
              "      <td>France</td>\n",
              "      <td>Female</td>\n",
              "      <td>39</td>\n",
              "      <td>1</td>\n",
              "      <td>0.00</td>\n",
              "      <td>2</td>\n",
              "      <td>0</td>\n",
              "      <td>0</td>\n",
              "      <td>93826.63</td>\n",
              "      <td>0</td>\n",
              "    </tr>\n",
              "    <tr>\n",
              "      <th>4</th>\n",
              "      <td>850</td>\n",
              "      <td>Spain</td>\n",
              "      <td>Female</td>\n",
              "      <td>43</td>\n",
              "      <td>2</td>\n",
              "      <td>125510.82</td>\n",
              "      <td>1</td>\n",
              "      <td>1</td>\n",
              "      <td>1</td>\n",
              "      <td>79084.10</td>\n",
              "      <td>0</td>\n",
              "    </tr>\n",
              "  </tbody>\n",
              "</table>\n",
              "</div>\n",
              "      <button class=\"colab-df-convert\" onclick=\"convertToInteractive('df-1f0299e3-e859-42ab-a11b-9b10b9f7517c')\"\n",
              "              title=\"Convert this dataframe to an interactive table.\"\n",
              "              style=\"display:none;\">\n",
              "        \n",
              "  <svg xmlns=\"http://www.w3.org/2000/svg\" height=\"24px\"viewBox=\"0 0 24 24\"\n",
              "       width=\"24px\">\n",
              "    <path d=\"M0 0h24v24H0V0z\" fill=\"none\"/>\n",
              "    <path d=\"M18.56 5.44l.94 2.06.94-2.06 2.06-.94-2.06-.94-.94-2.06-.94 2.06-2.06.94zm-11 1L8.5 8.5l.94-2.06 2.06-.94-2.06-.94L8.5 2.5l-.94 2.06-2.06.94zm10 10l.94 2.06.94-2.06 2.06-.94-2.06-.94-.94-2.06-.94 2.06-2.06.94z\"/><path d=\"M17.41 7.96l-1.37-1.37c-.4-.4-.92-.59-1.43-.59-.52 0-1.04.2-1.43.59L10.3 9.45l-7.72 7.72c-.78.78-.78 2.05 0 2.83L4 21.41c.39.39.9.59 1.41.59.51 0 1.02-.2 1.41-.59l7.78-7.78 2.81-2.81c.8-.78.8-2.07 0-2.86zM5.41 20L4 18.59l7.72-7.72 1.47 1.35L5.41 20z\"/>\n",
              "  </svg>\n",
              "      </button>\n",
              "      \n",
              "  <style>\n",
              "    .colab-df-container {\n",
              "      display:flex;\n",
              "      flex-wrap:wrap;\n",
              "      gap: 12px;\n",
              "    }\n",
              "\n",
              "    .colab-df-convert {\n",
              "      background-color: #E8F0FE;\n",
              "      border: none;\n",
              "      border-radius: 50%;\n",
              "      cursor: pointer;\n",
              "      display: none;\n",
              "      fill: #1967D2;\n",
              "      height: 32px;\n",
              "      padding: 0 0 0 0;\n",
              "      width: 32px;\n",
              "    }\n",
              "\n",
              "    .colab-df-convert:hover {\n",
              "      background-color: #E2EBFA;\n",
              "      box-shadow: 0px 1px 2px rgba(60, 64, 67, 0.3), 0px 1px 3px 1px rgba(60, 64, 67, 0.15);\n",
              "      fill: #174EA6;\n",
              "    }\n",
              "\n",
              "    [theme=dark] .colab-df-convert {\n",
              "      background-color: #3B4455;\n",
              "      fill: #D2E3FC;\n",
              "    }\n",
              "\n",
              "    [theme=dark] .colab-df-convert:hover {\n",
              "      background-color: #434B5C;\n",
              "      box-shadow: 0px 1px 3px 1px rgba(0, 0, 0, 0.15);\n",
              "      filter: drop-shadow(0px 1px 2px rgba(0, 0, 0, 0.3));\n",
              "      fill: #FFFFFF;\n",
              "    }\n",
              "  </style>\n",
              "\n",
              "      <script>\n",
              "        const buttonEl =\n",
              "          document.querySelector('#df-1f0299e3-e859-42ab-a11b-9b10b9f7517c button.colab-df-convert');\n",
              "        buttonEl.style.display =\n",
              "          google.colab.kernel.accessAllowed ? 'block' : 'none';\n",
              "\n",
              "        async function convertToInteractive(key) {\n",
              "          const element = document.querySelector('#df-1f0299e3-e859-42ab-a11b-9b10b9f7517c');\n",
              "          const dataTable =\n",
              "            await google.colab.kernel.invokeFunction('convertToInteractive',\n",
              "                                                     [key], {});\n",
              "          if (!dataTable) return;\n",
              "\n",
              "          const docLinkHtml = 'Like what you see? Visit the ' +\n",
              "            '<a target=\"_blank\" href=https://colab.research.google.com/notebooks/data_table.ipynb>data table notebook</a>'\n",
              "            + ' to learn more about interactive tables.';\n",
              "          element.innerHTML = '';\n",
              "          dataTable['output_type'] = 'display_data';\n",
              "          await google.colab.output.renderOutput(dataTable, element);\n",
              "          const docLink = document.createElement('div');\n",
              "          docLink.innerHTML = docLinkHtml;\n",
              "          element.appendChild(docLink);\n",
              "        }\n",
              "      </script>\n",
              "    </div>\n",
              "  </div>\n",
              "  "
            ]
          },
          "metadata": {},
          "execution_count": 3
        }
      ]
    },
    {
      "cell_type": "code",
      "source": [
        "# Training Model \n",
        "# y for the target varibale\n",
        "# X for the input features\n",
        "\n",
        "# splitting our dataframe into separate objects:"
      ],
      "metadata": {
        "id": "3slEAtmrnSsI"
      },
      "execution_count": null,
      "outputs": []
    },
    {
      "cell_type": "code",
      "source": [
        "#Separate dataframe into separate object\n",
        "\n",
        "# Object for target variable\n",
        "y = abt.Exited\n",
        "\n",
        "# object for input features\n",
        "X = abt.drop(['Exited'], axis=1)\n",
        "\n",
        "# display shapes of X and y\n",
        "print(X.shape, y.shape)"
      ],
      "metadata": {
        "colab": {
          "base_uri": "https://localhost:8080/"
        },
        "id": "CnU9-bKBnU-7",
        "outputId": "5d6beb44-1fc6-4c84-9381-5e5f238b82c0"
      },
      "execution_count": null,
      "outputs": [
        {
          "output_type": "stream",
          "name": "stdout",
          "text": [
            "(10000, 10) (10000,)\n"
          ]
        }
      ]
    },
    {
      "cell_type": "code",
      "source": [
        "# List numerical features\n",
        "num_columns = X.select_dtypes(include='number').columns.tolist()\n",
        "num_columns"
      ],
      "metadata": {
        "colab": {
          "base_uri": "https://localhost:8080/"
        },
        "id": "Hn0N4TE1nlqR",
        "outputId": "c3b2b593-3b6b-4c52-c47b-3255cb13d1a9"
      },
      "execution_count": null,
      "outputs": [
        {
          "output_type": "execute_result",
          "data": {
            "text/plain": [
              "['CreditScore',\n",
              " 'Age',\n",
              " 'Tenure',\n",
              " 'Balance',\n",
              " 'NumOfProducts',\n",
              " 'HasCrCard',\n",
              " 'IsActiveMember',\n",
              " 'EstimatedSalary']"
            ]
          },
          "metadata": {},
          "execution_count": 6
        }
      ]
    },
    {
      "cell_type": "code",
      "source": [
        "# List categorical features\n",
        "cat_columns = X.select_dtypes(include='object').columns.tolist()\n",
        "cat_columns"
      ],
      "metadata": {
        "colab": {
          "base_uri": "https://localhost:8080/"
        },
        "id": "hWSEKLEEnotb",
        "outputId": "14ae1078-d4df-4d43-be76-2b44f347f5ec"
      },
      "execution_count": null,
      "outputs": [
        {
          "output_type": "execute_result",
          "data": {
            "text/plain": [
              "['Geography', 'Gender']"
            ]
          },
          "metadata": {},
          "execution_count": 7
        }
      ]
    },
    {
      "cell_type": "code",
      "source": [
        "def class_count(a):\n",
        "    counter=Counter(a)\n",
        "    kv=[list(counter.keys()),list(counter.values())]\n",
        "    abt2 = pd.DataFrame(np.array(kv).T, columns=['Exited','Count'])\n",
        "    abt2['Count'] = abt2['Count'].astype('int64')\n",
        "    abt2['%'] = round(abt2['Count'] / a.shape[0] * 100, 2)\n",
        "    return abt2.sort_values('Count',ascending=False)"
      ],
      "metadata": {
        "id": "XaqP2LaonrbG"
      },
      "execution_count": null,
      "outputs": []
    },
    {
      "cell_type": "code",
      "source": [
        "class_count(y)"
      ],
      "metadata": {
        "colab": {
          "base_uri": "https://localhost:8080/",
          "height": 112
        },
        "id": "szVu3wKynt7w",
        "outputId": "42f9ba55-e568-4a2c-cc27-370e2dba7692"
      },
      "execution_count": null,
      "outputs": [
        {
          "output_type": "execute_result",
          "data": {
            "text/plain": [
              "   Exited  Count      %\n",
              "1       0   7963  79.63\n",
              "0       1   2037  20.37"
            ],
            "text/html": [
              "\n",
              "  <div id=\"df-628ffbcd-0d61-44f7-b6f4-60a5ee407c92\">\n",
              "    <div class=\"colab-df-container\">\n",
              "      <div>\n",
              "<style scoped>\n",
              "    .dataframe tbody tr th:only-of-type {\n",
              "        vertical-align: middle;\n",
              "    }\n",
              "\n",
              "    .dataframe tbody tr th {\n",
              "        vertical-align: top;\n",
              "    }\n",
              "\n",
              "    .dataframe thead th {\n",
              "        text-align: right;\n",
              "    }\n",
              "</style>\n",
              "<table border=\"1\" class=\"dataframe\">\n",
              "  <thead>\n",
              "    <tr style=\"text-align: right;\">\n",
              "      <th></th>\n",
              "      <th>Exited</th>\n",
              "      <th>Count</th>\n",
              "      <th>%</th>\n",
              "    </tr>\n",
              "  </thead>\n",
              "  <tbody>\n",
              "    <tr>\n",
              "      <th>1</th>\n",
              "      <td>0</td>\n",
              "      <td>7963</td>\n",
              "      <td>79.63</td>\n",
              "    </tr>\n",
              "    <tr>\n",
              "      <th>0</th>\n",
              "      <td>1</td>\n",
              "      <td>2037</td>\n",
              "      <td>20.37</td>\n",
              "    </tr>\n",
              "  </tbody>\n",
              "</table>\n",
              "</div>\n",
              "      <button class=\"colab-df-convert\" onclick=\"convertToInteractive('df-628ffbcd-0d61-44f7-b6f4-60a5ee407c92')\"\n",
              "              title=\"Convert this dataframe to an interactive table.\"\n",
              "              style=\"display:none;\">\n",
              "        \n",
              "  <svg xmlns=\"http://www.w3.org/2000/svg\" height=\"24px\"viewBox=\"0 0 24 24\"\n",
              "       width=\"24px\">\n",
              "    <path d=\"M0 0h24v24H0V0z\" fill=\"none\"/>\n",
              "    <path d=\"M18.56 5.44l.94 2.06.94-2.06 2.06-.94-2.06-.94-.94-2.06-.94 2.06-2.06.94zm-11 1L8.5 8.5l.94-2.06 2.06-.94-2.06-.94L8.5 2.5l-.94 2.06-2.06.94zm10 10l.94 2.06.94-2.06 2.06-.94-2.06-.94-.94-2.06-.94 2.06-2.06.94z\"/><path d=\"M17.41 7.96l-1.37-1.37c-.4-.4-.92-.59-1.43-.59-.52 0-1.04.2-1.43.59L10.3 9.45l-7.72 7.72c-.78.78-.78 2.05 0 2.83L4 21.41c.39.39.9.59 1.41.59.51 0 1.02-.2 1.41-.59l7.78-7.78 2.81-2.81c.8-.78.8-2.07 0-2.86zM5.41 20L4 18.59l7.72-7.72 1.47 1.35L5.41 20z\"/>\n",
              "  </svg>\n",
              "      </button>\n",
              "      \n",
              "  <style>\n",
              "    .colab-df-container {\n",
              "      display:flex;\n",
              "      flex-wrap:wrap;\n",
              "      gap: 12px;\n",
              "    }\n",
              "\n",
              "    .colab-df-convert {\n",
              "      background-color: #E8F0FE;\n",
              "      border: none;\n",
              "      border-radius: 50%;\n",
              "      cursor: pointer;\n",
              "      display: none;\n",
              "      fill: #1967D2;\n",
              "      height: 32px;\n",
              "      padding: 0 0 0 0;\n",
              "      width: 32px;\n",
              "    }\n",
              "\n",
              "    .colab-df-convert:hover {\n",
              "      background-color: #E2EBFA;\n",
              "      box-shadow: 0px 1px 2px rgba(60, 64, 67, 0.3), 0px 1px 3px 1px rgba(60, 64, 67, 0.15);\n",
              "      fill: #174EA6;\n",
              "    }\n",
              "\n",
              "    [theme=dark] .colab-df-convert {\n",
              "      background-color: #3B4455;\n",
              "      fill: #D2E3FC;\n",
              "    }\n",
              "\n",
              "    [theme=dark] .colab-df-convert:hover {\n",
              "      background-color: #434B5C;\n",
              "      box-shadow: 0px 1px 3px 1px rgba(0, 0, 0, 0.15);\n",
              "      filter: drop-shadow(0px 1px 2px rgba(0, 0, 0, 0.3));\n",
              "      fill: #FFFFFF;\n",
              "    }\n",
              "  </style>\n",
              "\n",
              "      <script>\n",
              "        const buttonEl =\n",
              "          document.querySelector('#df-628ffbcd-0d61-44f7-b6f4-60a5ee407c92 button.colab-df-convert');\n",
              "        buttonEl.style.display =\n",
              "          google.colab.kernel.accessAllowed ? 'block' : 'none';\n",
              "\n",
              "        async function convertToInteractive(key) {\n",
              "          const element = document.querySelector('#df-628ffbcd-0d61-44f7-b6f4-60a5ee407c92');\n",
              "          const dataTable =\n",
              "            await google.colab.kernel.invokeFunction('convertToInteractive',\n",
              "                                                     [key], {});\n",
              "          if (!dataTable) return;\n",
              "\n",
              "          const docLinkHtml = 'Like what you see? Visit the ' +\n",
              "            '<a target=\"_blank\" href=https://colab.research.google.com/notebooks/data_table.ipynb>data table notebook</a>'\n",
              "            + ' to learn more about interactive tables.';\n",
              "          element.innerHTML = '';\n",
              "          dataTable['output_type'] = 'display_data';\n",
              "          await google.colab.output.renderOutput(dataTable, element);\n",
              "          const docLink = document.createElement('div');\n",
              "          docLink.innerHTML = docLinkHtml;\n",
              "          element.appendChild(docLink);\n",
              "        }\n",
              "      </script>\n",
              "    </div>\n",
              "  </div>\n",
              "  "
            ]
          },
          "metadata": {},
          "execution_count": 9
        }
      ]
    },
    {
      "cell_type": "code",
      "source": [
        "# Train-Test Split\n",
        "\n",
        "# 30% of observations will be set aside for the test set,the rest, 70%, will be used as the training set"
      ],
      "metadata": {
        "id": "X3gkXWm8n6jj"
      },
      "execution_count": null,
      "outputs": []
    },
    {
      "cell_type": "code",
      "source": [
        "random_state = 10\n",
        "\n",
        "# Split X and y into train and test sets\n",
        "X_train, X_test, y_train, y_test = train_test_split(X, y,\n",
        "                                                    test_size=0.3,\n",
        "                                                    random_state=random_state,\n",
        "                                                    stratify=abt.Exited)\n",
        "\n",
        "# Print number of observations in X_train, X_test, y_train, and y_test\n",
        "print(len(X_train), len(X_test), len(y_train), len(y_test))"
      ],
      "metadata": {
        "colab": {
          "base_uri": "https://localhost:8080/"
        },
        "id": "RnvdDRHEoIa7",
        "outputId": "03b08ef8-df9b-42ff-c4b3-f6456562c200"
      },
      "execution_count": null,
      "outputs": [
        {
          "output_type": "stream",
          "name": "stdout",
          "text": [
            "7000 3000 7000 3000\n"
          ]
        }
      ]
    },
    {
      "cell_type": "code",
      "source": [
        "X_train.info()"
      ],
      "metadata": {
        "colab": {
          "base_uri": "https://localhost:8080/"
        },
        "id": "dXj4v6HcoAQO",
        "outputId": "654cc631-a99b-4c58-faad-5ec86b7ad1f6"
      },
      "execution_count": null,
      "outputs": [
        {
          "output_type": "stream",
          "name": "stdout",
          "text": [
            "<class 'pandas.core.frame.DataFrame'>\n",
            "Int64Index: 7000 entries, 8061 to 4741\n",
            "Data columns (total 10 columns):\n",
            " #   Column           Non-Null Count  Dtype  \n",
            "---  ------           --------------  -----  \n",
            " 0   CreditScore      7000 non-null   int64  \n",
            " 1   Geography        7000 non-null   object \n",
            " 2   Gender           7000 non-null   object \n",
            " 3   Age              7000 non-null   int64  \n",
            " 4   Tenure           7000 non-null   int64  \n",
            " 5   Balance          7000 non-null   float64\n",
            " 6   NumOfProducts    7000 non-null   int64  \n",
            " 7   HasCrCard        7000 non-null   int64  \n",
            " 8   IsActiveMember   7000 non-null   int64  \n",
            " 9   EstimatedSalary  7000 non-null   float64\n",
            "dtypes: float64(2), int64(6), object(2)\n",
            "memory usage: 601.6+ KB\n"
          ]
        }
      ]
    },
    {
      "cell_type": "code",
      "source": [
        "# Scale numerical data and encode categorical data"
      ],
      "metadata": {
        "id": "axyHDrjHoqKy"
      },
      "execution_count": null,
      "outputs": []
    },
    {
      "cell_type": "code",
      "source": [
        "num_features = [] \n",
        "\n",
        "for i in num_columns:\n",
        "    location = X.columns.get_loc(i)\n",
        "    num_features.append(location)\n",
        "print(num_features)  "
      ],
      "metadata": {
        "colab": {
          "base_uri": "https://localhost:8080/"
        },
        "id": "jf0nXt1hosmA",
        "outputId": "070c14dc-5dd2-48ba-ebb1-871403a8c110"
      },
      "execution_count": null,
      "outputs": [
        {
          "output_type": "stream",
          "name": "stdout",
          "text": [
            "[0, 3, 4, 5, 6, 7, 8, 9]\n"
          ]
        }
      ]
    },
    {
      "cell_type": "code",
      "source": [
        "cat_features = []\n",
        "\n",
        "for i in cat_columns:\n",
        "    location = X.columns.get_loc(i)\n",
        "    cat_features.append(location)\n",
        "print(cat_features) "
      ],
      "metadata": {
        "colab": {
          "base_uri": "https://localhost:8080/"
        },
        "id": "N7920kLWoutj",
        "outputId": "4ce014bd-db63-4872-f12b-20ca61c1c5eb"
      },
      "execution_count": null,
      "outputs": [
        {
          "output_type": "stream",
          "name": "stdout",
          "text": [
            "[1, 2]\n"
          ]
        }
      ]
    },
    {
      "cell_type": "code",
      "source": [
        "# Define column transformer\n",
        "# Need to be numeric not string to specify columns name \n",
        "preprocess = make_column_transformer(\n",
        "    (MinMaxScaler(), num_features),\n",
        "    (OneHotEncoder(sparse=False), cat_features)\n",
        ")\n",
        "preprocess"
      ],
      "metadata": {
        "colab": {
          "base_uri": "https://localhost:8080/"
        },
        "id": "CUOGO978ow_8",
        "outputId": "b2467016-36f6-47cb-a86e-e7f4810d65b3"
      },
      "execution_count": null,
      "outputs": [
        {
          "output_type": "execute_result",
          "data": {
            "text/plain": [
              "ColumnTransformer(transformers=[('minmaxscaler', MinMaxScaler(),\n",
              "                                 [0, 3, 4, 5, 6, 7, 8, 9]),\n",
              "                                ('onehotencoder', OneHotEncoder(sparse=False),\n",
              "                                 [1, 2])])"
            ]
          },
          "metadata": {},
          "execution_count": 16
        }
      ]
    },
    {
      "cell_type": "code",
      "source": [
        "# Import classifier\n",
        "from sklearn.linear_model import LogisticRegression \n",
        "\n",
        "# Define model with pipeline\n",
        "model = imbl_pipe(preprocess,\n",
        "                  SMOTE(sampling_strategy='auto', random_state=random_state),\n",
        "                  LogisticRegression(random_state=random_state))\n",
        "\n",
        "model"
      ],
      "metadata": {
        "colab": {
          "base_uri": "https://localhost:8080/"
        },
        "id": "E_Taujmfozd8",
        "outputId": "8ceff6ab-0810-44a6-d035-8b0b614afbdf"
      },
      "execution_count": null,
      "outputs": [
        {
          "output_type": "execute_result",
          "data": {
            "text/plain": [
              "Pipeline(steps=[('columntransformer',\n",
              "                 ColumnTransformer(transformers=[('minmaxscaler',\n",
              "                                                  MinMaxScaler(),\n",
              "                                                  [0, 3, 4, 5, 6, 7, 8, 9]),\n",
              "                                                 ('onehotencoder',\n",
              "                                                  OneHotEncoder(sparse=False),\n",
              "                                                  [1, 2])])),\n",
              "                ('smote', SMOTE(random_state=10)),\n",
              "                ('logisticregression', LogisticRegression(random_state=10))])"
            ]
          },
          "metadata": {},
          "execution_count": 17
        }
      ]
    },
    {
      "cell_type": "code",
      "source": [
        "# Create the GridSearchCV model\n",
        "# Create the GridSearch estimator along with a parameter object containing the values to adjust\n",
        "from sklearn.model_selection import GridSearchCV\n",
        "lr_param_grid = {\n",
        "    'logisticregression__C' : [0.01, 0.05, 0.1, 0.5, 1, 5],\n",
        "    'logisticregression__solver' : ['liblinear', 'newton-cg', 'lbfgs', 'sag', 'saga']\n",
        "}\n",
        "\n",
        "lr_grid = GridSearchCV(model, lr_param_grid, verbose=3, cv= 5, scoring='accuracy')"
      ],
      "metadata": {
        "id": "92HtVd2jo2qc"
      },
      "execution_count": null,
      "outputs": []
    },
    {
      "cell_type": "code",
      "source": [
        "lr_grid.fit(X_train, y_train)"
      ],
      "metadata": {
        "colab": {
          "base_uri": "https://localhost:8080/"
        },
        "id": "RAi6TD1No518",
        "outputId": "748ce784-0eed-4c6e-b250-d464487ea751"
      },
      "execution_count": null,
      "outputs": [
        {
          "output_type": "stream",
          "name": "stdout",
          "text": [
            "Fitting 5 folds for each of 30 candidates, totalling 150 fits\n",
            "[CV 1/5] END logisticregression__C=0.01, logisticregression__solver=liblinear;, score=0.663 total time=   0.2s\n",
            "[CV 2/5] END logisticregression__C=0.01, logisticregression__solver=liblinear;, score=0.685 total time=   0.2s\n",
            "[CV 3/5] END logisticregression__C=0.01, logisticregression__solver=liblinear;, score=0.681 total time=   0.1s\n",
            "[CV 4/5] END logisticregression__C=0.01, logisticregression__solver=liblinear;, score=0.688 total time=   0.1s\n",
            "[CV 5/5] END logisticregression__C=0.01, logisticregression__solver=liblinear;, score=0.687 total time=   0.1s\n",
            "[CV 1/5] END logisticregression__C=0.01, logisticregression__solver=newton-cg;, score=0.663 total time=   0.1s\n",
            "[CV 2/5] END logisticregression__C=0.01, logisticregression__solver=newton-cg;, score=0.686 total time=   0.1s\n",
            "[CV 3/5] END logisticregression__C=0.01, logisticregression__solver=newton-cg;, score=0.680 total time=   0.1s\n",
            "[CV 4/5] END logisticregression__C=0.01, logisticregression__solver=newton-cg;, score=0.688 total time=   0.2s\n",
            "[CV 5/5] END logisticregression__C=0.01, logisticregression__solver=newton-cg;, score=0.689 total time=   0.1s\n",
            "[CV 1/5] END logisticregression__C=0.01, logisticregression__solver=lbfgs;, score=0.663 total time=   0.1s\n",
            "[CV 2/5] END logisticregression__C=0.01, logisticregression__solver=lbfgs;, score=0.686 total time=   0.1s\n",
            "[CV 3/5] END logisticregression__C=0.01, logisticregression__solver=lbfgs;, score=0.680 total time=   0.1s\n",
            "[CV 4/5] END logisticregression__C=0.01, logisticregression__solver=lbfgs;, score=0.688 total time=   0.1s\n",
            "[CV 5/5] END logisticregression__C=0.01, logisticregression__solver=lbfgs;, score=0.689 total time=   0.1s\n",
            "[CV 1/5] END logisticregression__C=0.01, logisticregression__solver=sag;, score=0.663 total time=   0.1s\n",
            "[CV 2/5] END logisticregression__C=0.01, logisticregression__solver=sag;, score=0.686 total time=   0.1s\n",
            "[CV 3/5] END logisticregression__C=0.01, logisticregression__solver=sag;, score=0.680 total time=   0.1s\n",
            "[CV 4/5] END logisticregression__C=0.01, logisticregression__solver=sag;, score=0.688 total time=   0.1s\n",
            "[CV 5/5] END logisticregression__C=0.01, logisticregression__solver=sag;, score=0.689 total time=   0.1s\n",
            "[CV 1/5] END logisticregression__C=0.01, logisticregression__solver=saga;, score=0.663 total time=   0.1s\n",
            "[CV 2/5] END logisticregression__C=0.01, logisticregression__solver=saga;, score=0.686 total time=   0.1s\n",
            "[CV 3/5] END logisticregression__C=0.01, logisticregression__solver=saga;, score=0.680 total time=   0.1s\n",
            "[CV 4/5] END logisticregression__C=0.01, logisticregression__solver=saga;, score=0.688 total time=   0.1s\n",
            "[CV 5/5] END logisticregression__C=0.01, logisticregression__solver=saga;, score=0.689 total time=   0.1s\n",
            "[CV 1/5] END logisticregression__C=0.05, logisticregression__solver=liblinear;, score=0.689 total time=   0.1s\n",
            "[CV 2/5] END logisticregression__C=0.05, logisticregression__solver=liblinear;, score=0.704 total time=   0.1s\n",
            "[CV 3/5] END logisticregression__C=0.05, logisticregression__solver=liblinear;, score=0.706 total time=   0.1s\n",
            "[CV 4/5] END logisticregression__C=0.05, logisticregression__solver=liblinear;, score=0.697 total time=   0.1s\n",
            "[CV 5/5] END logisticregression__C=0.05, logisticregression__solver=liblinear;, score=0.710 total time=   0.1s\n",
            "[CV 1/5] END logisticregression__C=0.05, logisticregression__solver=newton-cg;, score=0.689 total time=   0.2s\n",
            "[CV 2/5] END logisticregression__C=0.05, logisticregression__solver=newton-cg;, score=0.704 total time=   0.2s\n",
            "[CV 3/5] END logisticregression__C=0.05, logisticregression__solver=newton-cg;, score=0.709 total time=   0.2s\n",
            "[CV 4/5] END logisticregression__C=0.05, logisticregression__solver=newton-cg;, score=0.697 total time=   0.2s\n",
            "[CV 5/5] END logisticregression__C=0.05, logisticregression__solver=newton-cg;, score=0.714 total time=   0.1s\n",
            "[CV 1/5] END logisticregression__C=0.05, logisticregression__solver=lbfgs;, score=0.689 total time=   0.1s\n",
            "[CV 2/5] END logisticregression__C=0.05, logisticregression__solver=lbfgs;, score=0.704 total time=   0.1s\n",
            "[CV 3/5] END logisticregression__C=0.05, logisticregression__solver=lbfgs;, score=0.709 total time=   0.1s\n",
            "[CV 4/5] END logisticregression__C=0.05, logisticregression__solver=lbfgs;, score=0.697 total time=   0.1s\n",
            "[CV 5/5] END logisticregression__C=0.05, logisticregression__solver=lbfgs;, score=0.714 total time=   0.2s\n",
            "[CV 1/5] END logisticregression__C=0.05, logisticregression__solver=sag;, score=0.690 total time=   0.1s\n",
            "[CV 2/5] END logisticregression__C=0.05, logisticregression__solver=sag;, score=0.704 total time=   0.1s\n",
            "[CV 3/5] END logisticregression__C=0.05, logisticregression__solver=sag;, score=0.709 total time=   0.1s\n",
            "[CV 4/5] END logisticregression__C=0.05, logisticregression__solver=sag;, score=0.697 total time=   0.1s\n",
            "[CV 5/5] END logisticregression__C=0.05, logisticregression__solver=sag;, score=0.714 total time=   0.1s\n",
            "[CV 1/5] END logisticregression__C=0.05, logisticregression__solver=saga;, score=0.689 total time=   0.1s\n",
            "[CV 2/5] END logisticregression__C=0.05, logisticregression__solver=saga;, score=0.704 total time=   0.1s\n",
            "[CV 3/5] END logisticregression__C=0.05, logisticregression__solver=saga;, score=0.709 total time=   0.1s\n",
            "[CV 4/5] END logisticregression__C=0.05, logisticregression__solver=saga;, score=0.697 total time=   0.1s\n",
            "[CV 5/5] END logisticregression__C=0.05, logisticregression__solver=saga;, score=0.714 total time=   0.1s\n",
            "[CV 1/5] END logisticregression__C=0.1, logisticregression__solver=liblinear;, score=0.702 total time=   0.1s\n",
            "[CV 2/5] END logisticregression__C=0.1, logisticregression__solver=liblinear;, score=0.704 total time=   0.1s\n",
            "[CV 3/5] END logisticregression__C=0.1, logisticregression__solver=liblinear;, score=0.716 total time=   0.1s\n",
            "[CV 4/5] END logisticregression__C=0.1, logisticregression__solver=liblinear;, score=0.706 total time=   0.1s\n",
            "[CV 5/5] END logisticregression__C=0.1, logisticregression__solver=liblinear;, score=0.722 total time=   0.1s\n",
            "[CV 1/5] END logisticregression__C=0.1, logisticregression__solver=newton-cg;, score=0.706 total time=   0.2s\n",
            "[CV 2/5] END logisticregression__C=0.1, logisticregression__solver=newton-cg;, score=0.706 total time=   0.2s\n",
            "[CV 3/5] END logisticregression__C=0.1, logisticregression__solver=newton-cg;, score=0.716 total time=   0.2s\n",
            "[CV 4/5] END logisticregression__C=0.1, logisticregression__solver=newton-cg;, score=0.707 total time=   0.1s\n",
            "[CV 5/5] END logisticregression__C=0.1, logisticregression__solver=newton-cg;, score=0.722 total time=   0.2s\n",
            "[CV 1/5] END logisticregression__C=0.1, logisticregression__solver=lbfgs;, score=0.706 total time=   0.1s\n",
            "[CV 2/5] END logisticregression__C=0.1, logisticregression__solver=lbfgs;, score=0.706 total time=   0.1s\n",
            "[CV 3/5] END logisticregression__C=0.1, logisticregression__solver=lbfgs;, score=0.716 total time=   0.2s\n",
            "[CV 4/5] END logisticregression__C=0.1, logisticregression__solver=lbfgs;, score=0.707 total time=   0.1s\n",
            "[CV 5/5] END logisticregression__C=0.1, logisticregression__solver=lbfgs;, score=0.722 total time=   0.1s\n",
            "[CV 1/5] END logisticregression__C=0.1, logisticregression__solver=sag;, score=0.706 total time=   0.1s\n",
            "[CV 2/5] END logisticregression__C=0.1, logisticregression__solver=sag;, score=0.706 total time=   0.1s\n",
            "[CV 3/5] END logisticregression__C=0.1, logisticregression__solver=sag;, score=0.716 total time=   0.1s\n",
            "[CV 4/5] END logisticregression__C=0.1, logisticregression__solver=sag;, score=0.707 total time=   0.1s\n",
            "[CV 5/5] END logisticregression__C=0.1, logisticregression__solver=sag;, score=0.722 total time=   0.1s\n",
            "[CV 1/5] END logisticregression__C=0.1, logisticregression__solver=saga;, score=0.706 total time=   0.1s\n",
            "[CV 2/5] END logisticregression__C=0.1, logisticregression__solver=saga;, score=0.706 total time=   0.1s\n",
            "[CV 3/5] END logisticregression__C=0.1, logisticregression__solver=saga;, score=0.716 total time=   0.1s\n",
            "[CV 4/5] END logisticregression__C=0.1, logisticregression__solver=saga;, score=0.707 total time=   0.1s\n",
            "[CV 5/5] END logisticregression__C=0.1, logisticregression__solver=saga;, score=0.721 total time=   0.1s\n",
            "[CV 1/5] END logisticregression__C=0.5, logisticregression__solver=liblinear;, score=0.714 total time=   0.1s\n",
            "[CV 2/5] END logisticregression__C=0.5, logisticregression__solver=liblinear;, score=0.712 total time=   0.1s\n",
            "[CV 3/5] END logisticregression__C=0.5, logisticregression__solver=liblinear;, score=0.719 total time=   0.1s\n",
            "[CV 4/5] END logisticregression__C=0.5, logisticregression__solver=liblinear;, score=0.714 total time=   0.1s\n",
            "[CV 5/5] END logisticregression__C=0.5, logisticregression__solver=liblinear;, score=0.727 total time=   0.1s\n",
            "[CV 1/5] END logisticregression__C=0.5, logisticregression__solver=newton-cg;, score=0.714 total time=   0.2s\n",
            "[CV 2/5] END logisticregression__C=0.5, logisticregression__solver=newton-cg;, score=0.711 total time=   0.1s\n",
            "[CV 3/5] END logisticregression__C=0.5, logisticregression__solver=newton-cg;, score=0.720 total time=   0.2s\n",
            "[CV 4/5] END logisticregression__C=0.5, logisticregression__solver=newton-cg;, score=0.716 total time=   0.2s\n",
            "[CV 5/5] END logisticregression__C=0.5, logisticregression__solver=newton-cg;, score=0.729 total time=   0.2s\n",
            "[CV 1/5] END logisticregression__C=0.5, logisticregression__solver=lbfgs;, score=0.714 total time=   0.1s\n",
            "[CV 2/5] END logisticregression__C=0.5, logisticregression__solver=lbfgs;, score=0.711 total time=   0.1s\n",
            "[CV 3/5] END logisticregression__C=0.5, logisticregression__solver=lbfgs;, score=0.720 total time=   0.2s\n",
            "[CV 4/5] END logisticregression__C=0.5, logisticregression__solver=lbfgs;, score=0.716 total time=   0.2s\n",
            "[CV 5/5] END logisticregression__C=0.5, logisticregression__solver=lbfgs;, score=0.729 total time=   0.2s\n",
            "[CV 1/5] END logisticregression__C=0.5, logisticregression__solver=sag;, score=0.714 total time=   0.1s\n",
            "[CV 2/5] END logisticregression__C=0.5, logisticregression__solver=sag;, score=0.711 total time=   0.2s\n",
            "[CV 3/5] END logisticregression__C=0.5, logisticregression__solver=sag;, score=0.720 total time=   0.1s\n",
            "[CV 4/5] END logisticregression__C=0.5, logisticregression__solver=sag;, score=0.716 total time=   0.1s\n",
            "[CV 5/5] END logisticregression__C=0.5, logisticregression__solver=sag;, score=0.729 total time=   0.1s\n",
            "[CV 1/5] END logisticregression__C=0.5, logisticregression__solver=saga;, score=0.714 total time=   0.2s\n",
            "[CV 2/5] END logisticregression__C=0.5, logisticregression__solver=saga;, score=0.711 total time=   0.2s\n",
            "[CV 3/5] END logisticregression__C=0.5, logisticregression__solver=saga;, score=0.720 total time=   0.2s\n",
            "[CV 4/5] END logisticregression__C=0.5, logisticregression__solver=saga;, score=0.716 total time=   0.2s\n",
            "[CV 5/5] END logisticregression__C=0.5, logisticregression__solver=saga;, score=0.729 total time=   0.2s\n",
            "[CV 1/5] END logisticregression__C=1, logisticregression__solver=liblinear;, score=0.718 total time=   0.1s\n",
            "[CV 2/5] END logisticregression__C=1, logisticregression__solver=liblinear;, score=0.712 total time=   0.1s\n",
            "[CV 3/5] END logisticregression__C=1, logisticregression__solver=liblinear;, score=0.720 total time=   0.1s\n",
            "[CV 4/5] END logisticregression__C=1, logisticregression__solver=liblinear;, score=0.716 total time=   0.1s\n",
            "[CV 5/5] END logisticregression__C=1, logisticregression__solver=liblinear;, score=0.729 total time=   0.1s\n",
            "[CV 1/5] END logisticregression__C=1, logisticregression__solver=newton-cg;, score=0.718 total time=   0.2s\n",
            "[CV 2/5] END logisticregression__C=1, logisticregression__solver=newton-cg;, score=0.712 total time=   0.2s\n",
            "[CV 3/5] END logisticregression__C=1, logisticregression__solver=newton-cg;, score=0.719 total time=   0.2s\n",
            "[CV 4/5] END logisticregression__C=1, logisticregression__solver=newton-cg;, score=0.716 total time=   0.2s\n",
            "[CV 5/5] END logisticregression__C=1, logisticregression__solver=newton-cg;, score=0.729 total time=   0.2s\n",
            "[CV 1/5] END logisticregression__C=1, logisticregression__solver=lbfgs;, score=0.718 total time=   0.2s\n",
            "[CV 2/5] END logisticregression__C=1, logisticregression__solver=lbfgs;, score=0.712 total time=   0.1s\n",
            "[CV 3/5] END logisticregression__C=1, logisticregression__solver=lbfgs;, score=0.719 total time=   0.2s\n",
            "[CV 4/5] END logisticregression__C=1, logisticregression__solver=lbfgs;, score=0.716 total time=   0.2s\n",
            "[CV 5/5] END logisticregression__C=1, logisticregression__solver=lbfgs;, score=0.729 total time=   0.2s\n",
            "[CV 1/5] END logisticregression__C=1, logisticregression__solver=sag;, score=0.718 total time=   0.2s\n",
            "[CV 2/5] END logisticregression__C=1, logisticregression__solver=sag;, score=0.712 total time=   0.2s\n",
            "[CV 3/5] END logisticregression__C=1, logisticregression__solver=sag;, score=0.719 total time=   0.1s\n",
            "[CV 4/5] END logisticregression__C=1, logisticregression__solver=sag;, score=0.716 total time=   0.2s\n",
            "[CV 5/5] END logisticregression__C=1, logisticregression__solver=sag;, score=0.729 total time=   0.2s\n",
            "[CV 1/5] END logisticregression__C=1, logisticregression__solver=saga;, score=0.718 total time=   0.2s\n",
            "[CV 2/5] END logisticregression__C=1, logisticregression__solver=saga;, score=0.712 total time=   0.2s\n",
            "[CV 3/5] END logisticregression__C=1, logisticregression__solver=saga;, score=0.719 total time=   0.2s\n",
            "[CV 4/5] END logisticregression__C=1, logisticregression__solver=saga;, score=0.716 total time=   0.2s\n",
            "[CV 5/5] END logisticregression__C=1, logisticregression__solver=saga;, score=0.729 total time=   0.2s\n",
            "[CV 1/5] END logisticregression__C=5, logisticregression__solver=liblinear;, score=0.718 total time=   0.1s\n",
            "[CV 2/5] END logisticregression__C=5, logisticregression__solver=liblinear;, score=0.713 total time=   0.1s\n",
            "[CV 3/5] END logisticregression__C=5, logisticregression__solver=liblinear;, score=0.719 total time=   0.1s\n",
            "[CV 4/5] END logisticregression__C=5, logisticregression__solver=liblinear;, score=0.718 total time=   0.1s\n",
            "[CV 5/5] END logisticregression__C=5, logisticregression__solver=liblinear;, score=0.731 total time=   0.1s\n",
            "[CV 1/5] END logisticregression__C=5, logisticregression__solver=newton-cg;, score=0.718 total time=   0.1s\n",
            "[CV 2/5] END logisticregression__C=5, logisticregression__solver=newton-cg;, score=0.713 total time=   0.2s\n",
            "[CV 3/5] END logisticregression__C=5, logisticregression__solver=newton-cg;, score=0.719 total time=   0.2s\n",
            "[CV 4/5] END logisticregression__C=5, logisticregression__solver=newton-cg;, score=0.718 total time=   0.2s\n",
            "[CV 5/5] END logisticregression__C=5, logisticregression__solver=newton-cg;, score=0.731 total time=   0.2s\n",
            "[CV 1/5] END logisticregression__C=5, logisticregression__solver=lbfgs;, score=0.718 total time=   0.1s\n",
            "[CV 2/5] END logisticregression__C=5, logisticregression__solver=lbfgs;, score=0.713 total time=   0.2s\n",
            "[CV 3/5] END logisticregression__C=5, logisticregression__solver=lbfgs;, score=0.719 total time=   0.2s\n",
            "[CV 4/5] END logisticregression__C=5, logisticregression__solver=lbfgs;, score=0.718 total time=   0.2s\n",
            "[CV 5/5] END logisticregression__C=5, logisticregression__solver=lbfgs;, score=0.731 total time=   0.2s\n",
            "[CV 1/5] END logisticregression__C=5, logisticregression__solver=sag;, score=0.718 total time=   0.2s\n",
            "[CV 2/5] END logisticregression__C=5, logisticregression__solver=sag;, score=0.713 total time=   0.2s\n",
            "[CV 3/5] END logisticregression__C=5, logisticregression__solver=sag;, score=0.719 total time=   0.2s\n",
            "[CV 4/5] END logisticregression__C=5, logisticregression__solver=sag;, score=0.718 total time=   0.2s\n",
            "[CV 5/5] END logisticregression__C=5, logisticregression__solver=sag;, score=0.731 total time=   0.2s\n"
          ]
        },
        {
          "output_type": "stream",
          "name": "stderr",
          "text": [
            "/usr/local/lib/python3.7/dist-packages/sklearn/linear_model/_sag.py:354: ConvergenceWarning: The max_iter was reached which means the coef_ did not converge\n",
            "  ConvergenceWarning,\n"
          ]
        },
        {
          "output_type": "stream",
          "name": "stdout",
          "text": [
            "[CV 1/5] END logisticregression__C=5, logisticregression__solver=saga;, score=0.718 total time=   0.3s\n"
          ]
        },
        {
          "output_type": "stream",
          "name": "stderr",
          "text": [
            "/usr/local/lib/python3.7/dist-packages/sklearn/linear_model/_sag.py:354: ConvergenceWarning: The max_iter was reached which means the coef_ did not converge\n",
            "  ConvergenceWarning,\n"
          ]
        },
        {
          "output_type": "stream",
          "name": "stdout",
          "text": [
            "[CV 2/5] END logisticregression__C=5, logisticregression__solver=saga;, score=0.713 total time=   0.4s\n"
          ]
        },
        {
          "output_type": "stream",
          "name": "stderr",
          "text": [
            "/usr/local/lib/python3.7/dist-packages/sklearn/linear_model/_sag.py:354: ConvergenceWarning: The max_iter was reached which means the coef_ did not converge\n",
            "  ConvergenceWarning,\n"
          ]
        },
        {
          "output_type": "stream",
          "name": "stdout",
          "text": [
            "[CV 3/5] END logisticregression__C=5, logisticregression__solver=saga;, score=0.719 total time=   0.3s\n"
          ]
        },
        {
          "output_type": "stream",
          "name": "stderr",
          "text": [
            "/usr/local/lib/python3.7/dist-packages/sklearn/linear_model/_sag.py:354: ConvergenceWarning: The max_iter was reached which means the coef_ did not converge\n",
            "  ConvergenceWarning,\n"
          ]
        },
        {
          "output_type": "stream",
          "name": "stdout",
          "text": [
            "[CV 4/5] END logisticregression__C=5, logisticregression__solver=saga;, score=0.718 total time=   0.3s\n",
            "[CV 5/5] END logisticregression__C=5, logisticregression__solver=saga;, score=0.731 total time=   0.3s\n"
          ]
        },
        {
          "output_type": "stream",
          "name": "stderr",
          "text": [
            "/usr/local/lib/python3.7/dist-packages/sklearn/linear_model/_sag.py:354: ConvergenceWarning: The max_iter was reached which means the coef_ did not converge\n",
            "  ConvergenceWarning,\n"
          ]
        },
        {
          "output_type": "execute_result",
          "data": {
            "text/plain": [
              "GridSearchCV(cv=5,\n",
              "             estimator=Pipeline(steps=[('columntransformer',\n",
              "                                        ColumnTransformer(transformers=[('minmaxscaler',\n",
              "                                                                         MinMaxScaler(),\n",
              "                                                                         [0, 3,\n",
              "                                                                          4, 5,\n",
              "                                                                          6, 7,\n",
              "                                                                          8,\n",
              "                                                                          9]),\n",
              "                                                                        ('onehotencoder',\n",
              "                                                                         OneHotEncoder(sparse=False),\n",
              "                                                                         [1,\n",
              "                                                                          2])])),\n",
              "                                       ('smote', SMOTE(random_state=10)),\n",
              "                                       ('logisticregression',\n",
              "                                        LogisticRegression(random_state=10))]),\n",
              "             param_grid={'logisticregression__C': [0.01, 0.05, 0.1, 0.5, 1, 5],\n",
              "                         'logisticregression__solver': ['liblinear',\n",
              "                                                        'newton-cg', 'lbfgs',\n",
              "                                                        'sag', 'saga']},\n",
              "             scoring='accuracy', verbose=3)"
            ]
          },
          "metadata": {},
          "execution_count": 19
        }
      ]
    },
    {
      "cell_type": "code",
      "source": [
        "print(lr_grid.best_params_)"
      ],
      "metadata": {
        "colab": {
          "base_uri": "https://localhost:8080/"
        },
        "id": "Z17n-XFYpIkB",
        "outputId": "e2c1a1cb-319d-4722-910e-a3762efdd191"
      },
      "execution_count": null,
      "outputs": [
        {
          "output_type": "stream",
          "name": "stdout",
          "text": [
            "{'logisticregression__C': 5, 'logisticregression__solver': 'liblinear'}\n"
          ]
        }
      ]
    },
    {
      "cell_type": "code",
      "source": [
        "print(lr_grid.best_score_)"
      ],
      "metadata": {
        "colab": {
          "base_uri": "https://localhost:8080/"
        },
        "id": "ESYcqVuhp7Kf",
        "outputId": "527b209d-44b5-4b48-d50b-f9c6581e91ff"
      },
      "execution_count": null,
      "outputs": [
        {
          "output_type": "stream",
          "name": "stdout",
          "text": [
            "0.7197142857142858\n"
          ]
        }
      ]
    },
    {
      "cell_type": "code",
      "source": [
        "print(f\"Training Data Score: {lr_grid.score(X_train, y_train)}\")\n",
        "print(f\"Testing Data Score: {lr_grid.score(X_test, y_test)}\")"
      ],
      "metadata": {
        "colab": {
          "base_uri": "https://localhost:8080/"
        },
        "id": "G5udShyap9Gx",
        "outputId": "47b023cb-2a83-4393-9a00-acc7dec03459"
      },
      "execution_count": null,
      "outputs": [
        {
          "output_type": "stream",
          "name": "stdout",
          "text": [
            "Training Data Score: 0.722\n",
            "Testing Data Score: 0.707\n"
          ]
        }
      ]
    },
    {
      "cell_type": "code",
      "source": [
        "predictions = lr_grid.predict(X_test)\n",
        "print(f\"First 10 Predictions:   {predictions[:10]}\")\n",
        "print(f\"First 10 Actual labels: {y_test[:10].tolist()}\")"
      ],
      "metadata": {
        "colab": {
          "base_uri": "https://localhost:8080/"
        },
        "id": "We0llMlop_V-",
        "outputId": "ab07a831-f887-4b9f-c74f-88b7d37dc215"
      },
      "execution_count": null,
      "outputs": [
        {
          "output_type": "stream",
          "name": "stdout",
          "text": [
            "First 10 Predictions:   [0 0 0 0 1 1 0 0 0 0]\n",
            "First 10 Actual labels: [1, 0, 0, 0, 0, 1, 0, 0, 0, 0]\n"
          ]
        }
      ]
    },
    {
      "cell_type": "code",
      "source": [
        "pd.DataFrame({\"Prediction\": predictions, \"Actual\": y_test}).reset_index(drop=True)"
      ],
      "metadata": {
        "colab": {
          "base_uri": "https://localhost:8080/",
          "height": 423
        },
        "id": "b4E9fRYKqEED",
        "outputId": "d156757c-674f-48f6-f2bf-b988759694b6"
      },
      "execution_count": null,
      "outputs": [
        {
          "output_type": "execute_result",
          "data": {
            "text/plain": [
              "      Prediction  Actual\n",
              "0              0       1\n",
              "1              0       0\n",
              "2              0       0\n",
              "3              0       0\n",
              "4              1       0\n",
              "...          ...     ...\n",
              "2995           0       0\n",
              "2996           0       0\n",
              "2997           0       0\n",
              "2998           0       0\n",
              "2999           0       0\n",
              "\n",
              "[3000 rows x 2 columns]"
            ],
            "text/html": [
              "\n",
              "  <div id=\"df-42beeaf4-036d-43d0-bedc-490913f539c1\">\n",
              "    <div class=\"colab-df-container\">\n",
              "      <div>\n",
              "<style scoped>\n",
              "    .dataframe tbody tr th:only-of-type {\n",
              "        vertical-align: middle;\n",
              "    }\n",
              "\n",
              "    .dataframe tbody tr th {\n",
              "        vertical-align: top;\n",
              "    }\n",
              "\n",
              "    .dataframe thead th {\n",
              "        text-align: right;\n",
              "    }\n",
              "</style>\n",
              "<table border=\"1\" class=\"dataframe\">\n",
              "  <thead>\n",
              "    <tr style=\"text-align: right;\">\n",
              "      <th></th>\n",
              "      <th>Prediction</th>\n",
              "      <th>Actual</th>\n",
              "    </tr>\n",
              "  </thead>\n",
              "  <tbody>\n",
              "    <tr>\n",
              "      <th>0</th>\n",
              "      <td>0</td>\n",
              "      <td>1</td>\n",
              "    </tr>\n",
              "    <tr>\n",
              "      <th>1</th>\n",
              "      <td>0</td>\n",
              "      <td>0</td>\n",
              "    </tr>\n",
              "    <tr>\n",
              "      <th>2</th>\n",
              "      <td>0</td>\n",
              "      <td>0</td>\n",
              "    </tr>\n",
              "    <tr>\n",
              "      <th>3</th>\n",
              "      <td>0</td>\n",
              "      <td>0</td>\n",
              "    </tr>\n",
              "    <tr>\n",
              "      <th>4</th>\n",
              "      <td>1</td>\n",
              "      <td>0</td>\n",
              "    </tr>\n",
              "    <tr>\n",
              "      <th>...</th>\n",
              "      <td>...</td>\n",
              "      <td>...</td>\n",
              "    </tr>\n",
              "    <tr>\n",
              "      <th>2995</th>\n",
              "      <td>0</td>\n",
              "      <td>0</td>\n",
              "    </tr>\n",
              "    <tr>\n",
              "      <th>2996</th>\n",
              "      <td>0</td>\n",
              "      <td>0</td>\n",
              "    </tr>\n",
              "    <tr>\n",
              "      <th>2997</th>\n",
              "      <td>0</td>\n",
              "      <td>0</td>\n",
              "    </tr>\n",
              "    <tr>\n",
              "      <th>2998</th>\n",
              "      <td>0</td>\n",
              "      <td>0</td>\n",
              "    </tr>\n",
              "    <tr>\n",
              "      <th>2999</th>\n",
              "      <td>0</td>\n",
              "      <td>0</td>\n",
              "    </tr>\n",
              "  </tbody>\n",
              "</table>\n",
              "<p>3000 rows × 2 columns</p>\n",
              "</div>\n",
              "      <button class=\"colab-df-convert\" onclick=\"convertToInteractive('df-42beeaf4-036d-43d0-bedc-490913f539c1')\"\n",
              "              title=\"Convert this dataframe to an interactive table.\"\n",
              "              style=\"display:none;\">\n",
              "        \n",
              "  <svg xmlns=\"http://www.w3.org/2000/svg\" height=\"24px\"viewBox=\"0 0 24 24\"\n",
              "       width=\"24px\">\n",
              "    <path d=\"M0 0h24v24H0V0z\" fill=\"none\"/>\n",
              "    <path d=\"M18.56 5.44l.94 2.06.94-2.06 2.06-.94-2.06-.94-.94-2.06-.94 2.06-2.06.94zm-11 1L8.5 8.5l.94-2.06 2.06-.94-2.06-.94L8.5 2.5l-.94 2.06-2.06.94zm10 10l.94 2.06.94-2.06 2.06-.94-2.06-.94-.94-2.06-.94 2.06-2.06.94z\"/><path d=\"M17.41 7.96l-1.37-1.37c-.4-.4-.92-.59-1.43-.59-.52 0-1.04.2-1.43.59L10.3 9.45l-7.72 7.72c-.78.78-.78 2.05 0 2.83L4 21.41c.39.39.9.59 1.41.59.51 0 1.02-.2 1.41-.59l7.78-7.78 2.81-2.81c.8-.78.8-2.07 0-2.86zM5.41 20L4 18.59l7.72-7.72 1.47 1.35L5.41 20z\"/>\n",
              "  </svg>\n",
              "      </button>\n",
              "      \n",
              "  <style>\n",
              "    .colab-df-container {\n",
              "      display:flex;\n",
              "      flex-wrap:wrap;\n",
              "      gap: 12px;\n",
              "    }\n",
              "\n",
              "    .colab-df-convert {\n",
              "      background-color: #E8F0FE;\n",
              "      border: none;\n",
              "      border-radius: 50%;\n",
              "      cursor: pointer;\n",
              "      display: none;\n",
              "      fill: #1967D2;\n",
              "      height: 32px;\n",
              "      padding: 0 0 0 0;\n",
              "      width: 32px;\n",
              "    }\n",
              "\n",
              "    .colab-df-convert:hover {\n",
              "      background-color: #E2EBFA;\n",
              "      box-shadow: 0px 1px 2px rgba(60, 64, 67, 0.3), 0px 1px 3px 1px rgba(60, 64, 67, 0.15);\n",
              "      fill: #174EA6;\n",
              "    }\n",
              "\n",
              "    [theme=dark] .colab-df-convert {\n",
              "      background-color: #3B4455;\n",
              "      fill: #D2E3FC;\n",
              "    }\n",
              "\n",
              "    [theme=dark] .colab-df-convert:hover {\n",
              "      background-color: #434B5C;\n",
              "      box-shadow: 0px 1px 3px 1px rgba(0, 0, 0, 0.15);\n",
              "      filter: drop-shadow(0px 1px 2px rgba(0, 0, 0, 0.3));\n",
              "      fill: #FFFFFF;\n",
              "    }\n",
              "  </style>\n",
              "\n",
              "      <script>\n",
              "        const buttonEl =\n",
              "          document.querySelector('#df-42beeaf4-036d-43d0-bedc-490913f539c1 button.colab-df-convert');\n",
              "        buttonEl.style.display =\n",
              "          google.colab.kernel.accessAllowed ? 'block' : 'none';\n",
              "\n",
              "        async function convertToInteractive(key) {\n",
              "          const element = document.querySelector('#df-42beeaf4-036d-43d0-bedc-490913f539c1');\n",
              "          const dataTable =\n",
              "            await google.colab.kernel.invokeFunction('convertToInteractive',\n",
              "                                                     [key], {});\n",
              "          if (!dataTable) return;\n",
              "\n",
              "          const docLinkHtml = 'Like what you see? Visit the ' +\n",
              "            '<a target=\"_blank\" href=https://colab.research.google.com/notebooks/data_table.ipynb>data table notebook</a>'\n",
              "            + ' to learn more about interactive tables.';\n",
              "          element.innerHTML = '';\n",
              "          dataTable['output_type'] = 'display_data';\n",
              "          await google.colab.output.renderOutput(dataTable, element);\n",
              "          const docLink = document.createElement('div');\n",
              "          docLink.innerHTML = docLinkHtml;\n",
              "          element.appendChild(docLink);\n",
              "        }\n",
              "      </script>\n",
              "    </div>\n",
              "  </div>\n",
              "  "
            ]
          },
          "metadata": {},
          "execution_count": 24
        }
      ]
    },
    {
      "cell_type": "code",
      "source": [
        "cm = confusion_matrix(y_test, predictions)\n",
        "print(cm)"
      ],
      "metadata": {
        "colab": {
          "base_uri": "https://localhost:8080/"
        },
        "id": "I6SjvfLEqHC5",
        "outputId": "f010b057-bda8-43c4-ed96-1fb75cd0ad36"
      },
      "execution_count": null,
      "outputs": [
        {
          "output_type": "stream",
          "name": "stdout",
          "text": [
            "[[1708  681]\n",
            " [ 198  413]]\n"
          ]
        }
      ]
    },
    {
      "cell_type": "code",
      "source": [
        "cm = np.around(cm / cm.sum(axis=1)[:, np.newaxis], 2)\n",
        "print(cm)"
      ],
      "metadata": {
        "colab": {
          "base_uri": "https://localhost:8080/"
        },
        "id": "HgJxfNeXqJcK",
        "outputId": "8e226cf5-9534-49c7-ca04-de67428f52c0"
      },
      "execution_count": null,
      "outputs": [
        {
          "output_type": "stream",
          "name": "stdout",
          "text": [
            "[[0.71 0.29]\n",
            " [0.32 0.68]]\n"
          ]
        }
      ]
    },
    {
      "cell_type": "code",
      "source": [
        "print(classification_report(y_test, predictions))"
      ],
      "metadata": {
        "colab": {
          "base_uri": "https://localhost:8080/"
        },
        "id": "ooznGDqMqL9K",
        "outputId": "4e66bcc8-7e68-408e-b8d4-8cae1062f3a6"
      },
      "execution_count": null,
      "outputs": [
        {
          "output_type": "stream",
          "name": "stdout",
          "text": [
            "              precision    recall  f1-score   support\n",
            "\n",
            "           0       0.90      0.71      0.80      2389\n",
            "           1       0.38      0.68      0.48       611\n",
            "\n",
            "    accuracy                           0.71      3000\n",
            "   macro avg       0.64      0.70      0.64      3000\n",
            "weighted avg       0.79      0.71      0.73      3000\n",
            "\n"
          ]
        }
      ]
    },
    {
      "cell_type": "code",
      "source": [
        "pred = lr_grid.predict(X_test[:1])"
      ],
      "metadata": {
        "id": "VsjyP6vYqOUO"
      },
      "execution_count": null,
      "outputs": []
    },
    {
      "cell_type": "code",
      "source": [
        "print(f\"Predicted classes: {pred}\")\n",
        "print(f\"Actual Labels: {list(y_test[:1])}\")"
      ],
      "metadata": {
        "colab": {
          "base_uri": "https://localhost:8080/"
        },
        "id": "eU2q-U5qqRPF",
        "outputId": "6b3a7fcc-b78f-4837-e824-212866a8d0e5"
      },
      "execution_count": null,
      "outputs": [
        {
          "output_type": "stream",
          "name": "stdout",
          "text": [
            "Predicted classes: [0]\n",
            "Actual Labels: [1]\n"
          ]
        }
      ]
    },
    {
      "cell_type": "code",
      "source": [
        "import joblib\n",
        "\n",
        "filename = '../models/nate_logistic_regression.sav'\n",
        "joblib.dump(lr_grid, filename)"
      ],
      "metadata": {
        "colab": {
          "base_uri": "https://localhost:8080/"
        },
        "id": "JhA71TIhtVYY",
        "outputId": "b869ff11-598b-477b-c5f4-0252ef8f4a31"
      },
      "execution_count": null,
      "outputs": [
        {
          "output_type": "execute_result",
          "data": {
            "text/plain": [
              "['nate_logistic_regression.sav']"
            ]
          },
          "metadata": {},
          "execution_count": 33
        }
      ]
    },
    {
      "cell_type": "code",
      "source": [
        "lr_model = joblib.load(filename)\n",
        "print(lr_model.score(X_test, y_test))"
      ],
      "metadata": {
        "colab": {
          "base_uri": "https://localhost:8080/"
        },
        "id": "qdZGeUgsqVaW",
        "outputId": "23c9fcea-5d1d-4638-9d20-63efe0335764"
      },
      "execution_count": null,
      "outputs": [
        {
          "output_type": "stream",
          "name": "stdout",
          "text": [
            "0.707\n"
          ]
        }
      ]
    }
  ]
}