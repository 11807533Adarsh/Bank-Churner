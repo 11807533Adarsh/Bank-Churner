{
  "nbformat": 4,
  "nbformat_minor": 0,
  "metadata": {
    "colab": {
      "name": "keras_model.ipynb",
      "provenance": []
    },
    "kernelspec": {
      "name": "python3",
      "display_name": "Python 3"
    },
    "language_info": {
      "name": "python"
    }
  },
  "cells": [
    {
      "cell_type": "code",
      "execution_count": 1,
      "metadata": {
        "id": "dWjHx0Kb4m8o"
      },
      "outputs": [],
      "source": [
        "#from tensorflow.keras.wrappers.scikit_learn import KerasClassifier\n",
        "from tensorflow.keras.layers import Dense, Input, Dropout\n",
        "from tensorflow.keras.models import Sequential\n",
        "# Defining Keras model creator function\n",
        "def create_model(optimizer=\"adam\", dropout=0.1, n_features=13, n_units=64):\n",
        "    model = Sequential()\n",
        "    model.add(Dense(n_units, activation='relu', input_shape=(n_features,)))\n",
        "    model.add(Dropout(dropout), )\n",
        "    model.add(Dense(n_units, activation='relu'))\n",
        "    model.add(Dropout(dropout), )          \n",
        "    model.add(Dense(2, activation='softmax'))\n",
        "    model.compile(loss='sparse_categorical_crossentropy', optimizer=optimizer,metrics=[\"accuracy\"])\n",
        "    return model"
      ]
    }
  ]
}