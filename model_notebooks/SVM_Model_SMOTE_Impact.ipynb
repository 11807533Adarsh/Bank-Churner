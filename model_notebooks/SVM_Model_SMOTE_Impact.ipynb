{
  "cells": [
    {
      "cell_type": "code",
      "execution_count": null,
      "metadata": {
        "id": "BNuASKEyHUDP"
      },
      "outputs": [],
      "source": [
        "import os\n",
        "\n",
        "import pandas as pd\n",
        "import numpy as np\n",
        "\n",
        "# Matplotlib for visualization\n",
        "from matplotlib import pyplot as plt\n",
        "\n",
        "# display plots in the notebook\n",
        "%matplotlib inline\n",
        "\n",
        "# Seaborn for easier visualization\n",
        "import seaborn as sns\n",
        "### sns.set_style('darkgrid')\n",
        "\n",
        "# store elements as dictionary keys and their counts as dictionary values\n",
        "from collections import Counter\n",
        "\n",
        "# scikit-learn\n",
        "from sklearn.model_selection import train_test_split\n",
        "\n",
        "from sklearn.preprocessing import MinMaxScaler, OneHotEncoder, LabelEncoder\n",
        "from sklearn.compose import ColumnTransformer, make_column_transformer\n",
        "from sklearn.pipeline import make_pipeline\n",
        "\n",
        "# Classification metrics\n",
        "from sklearn.metrics import confusion_matrix, classification_report\n",
        "\n",
        "# Function for creating model pipelines - sklearn\n",
        "from sklearn.pipeline import make_pipeline\n",
        "\n",
        "# Function for creating model pipelines - imblearn\n",
        "from imblearn.pipeline import make_pipeline as imbl_pipe\n",
        "\n",
        "# Over-sampling using SMOTE\n",
        "from imblearn.over_sampling import SMOTE"
      ]
    },
    {
      "cell_type": "code",
      "execution_count": null,
      "metadata": {
        "colab": {
          "base_uri": "https://localhost:8080/",
          "height": 223
        },
        "id": "wCnjIWvqHdgK",
        "outputId": "50772d3a-93c0-42c9-f3e7-e31c0959cd4c"
      },
      "outputs": [
        {
          "output_type": "stream",
          "name": "stdout",
          "text": [
            "Dataframe dimensions: (10000, 11)\n"
          ]
        },
        {
          "output_type": "execute_result",
          "data": {
            "text/plain": [
              "   CreditScore Geography  Gender  Age  Tenure    Balance  NumOfProducts  \\\n",
              "0          619    France  Female   42       2       0.00              1   \n",
              "1          608     Spain  Female   41       1   83807.86              1   \n",
              "2          502    France  Female   42       8  159660.80              3   \n",
              "3          699    France  Female   39       1       0.00              2   \n",
              "4          850     Spain  Female   43       2  125510.82              1   \n",
              "\n",
              "   HasCrCard  IsActiveMember  EstimatedSalary  Exited  \n",
              "0          1               1        101348.88       1  \n",
              "1          0               1        112542.58       0  \n",
              "2          1               0        113931.57       1  \n",
              "3          0               0         93826.63       0  \n",
              "4          1               1         79084.10       0  "
            ],
            "text/html": [
              "\n",
              "  <div id=\"df-b6455139-1b83-4a96-b704-c0508ca9a2fb\">\n",
              "    <div class=\"colab-df-container\">\n",
              "      <div>\n",
              "<style scoped>\n",
              "    .dataframe tbody tr th:only-of-type {\n",
              "        vertical-align: middle;\n",
              "    }\n",
              "\n",
              "    .dataframe tbody tr th {\n",
              "        vertical-align: top;\n",
              "    }\n",
              "\n",
              "    .dataframe thead th {\n",
              "        text-align: right;\n",
              "    }\n",
              "</style>\n",
              "<table border=\"1\" class=\"dataframe\">\n",
              "  <thead>\n",
              "    <tr style=\"text-align: right;\">\n",
              "      <th></th>\n",
              "      <th>CreditScore</th>\n",
              "      <th>Geography</th>\n",
              "      <th>Gender</th>\n",
              "      <th>Age</th>\n",
              "      <th>Tenure</th>\n",
              "      <th>Balance</th>\n",
              "      <th>NumOfProducts</th>\n",
              "      <th>HasCrCard</th>\n",
              "      <th>IsActiveMember</th>\n",
              "      <th>EstimatedSalary</th>\n",
              "      <th>Exited</th>\n",
              "    </tr>\n",
              "  </thead>\n",
              "  <tbody>\n",
              "    <tr>\n",
              "      <th>0</th>\n",
              "      <td>619</td>\n",
              "      <td>France</td>\n",
              "      <td>Female</td>\n",
              "      <td>42</td>\n",
              "      <td>2</td>\n",
              "      <td>0.00</td>\n",
              "      <td>1</td>\n",
              "      <td>1</td>\n",
              "      <td>1</td>\n",
              "      <td>101348.88</td>\n",
              "      <td>1</td>\n",
              "    </tr>\n",
              "    <tr>\n",
              "      <th>1</th>\n",
              "      <td>608</td>\n",
              "      <td>Spain</td>\n",
              "      <td>Female</td>\n",
              "      <td>41</td>\n",
              "      <td>1</td>\n",
              "      <td>83807.86</td>\n",
              "      <td>1</td>\n",
              "      <td>0</td>\n",
              "      <td>1</td>\n",
              "      <td>112542.58</td>\n",
              "      <td>0</td>\n",
              "    </tr>\n",
              "    <tr>\n",
              "      <th>2</th>\n",
              "      <td>502</td>\n",
              "      <td>France</td>\n",
              "      <td>Female</td>\n",
              "      <td>42</td>\n",
              "      <td>8</td>\n",
              "      <td>159660.80</td>\n",
              "      <td>3</td>\n",
              "      <td>1</td>\n",
              "      <td>0</td>\n",
              "      <td>113931.57</td>\n",
              "      <td>1</td>\n",
              "    </tr>\n",
              "    <tr>\n",
              "      <th>3</th>\n",
              "      <td>699</td>\n",
              "      <td>France</td>\n",
              "      <td>Female</td>\n",
              "      <td>39</td>\n",
              "      <td>1</td>\n",
              "      <td>0.00</td>\n",
              "      <td>2</td>\n",
              "      <td>0</td>\n",
              "      <td>0</td>\n",
              "      <td>93826.63</td>\n",
              "      <td>0</td>\n",
              "    </tr>\n",
              "    <tr>\n",
              "      <th>4</th>\n",
              "      <td>850</td>\n",
              "      <td>Spain</td>\n",
              "      <td>Female</td>\n",
              "      <td>43</td>\n",
              "      <td>2</td>\n",
              "      <td>125510.82</td>\n",
              "      <td>1</td>\n",
              "      <td>1</td>\n",
              "      <td>1</td>\n",
              "      <td>79084.10</td>\n",
              "      <td>0</td>\n",
              "    </tr>\n",
              "  </tbody>\n",
              "</table>\n",
              "</div>\n",
              "      <button class=\"colab-df-convert\" onclick=\"convertToInteractive('df-b6455139-1b83-4a96-b704-c0508ca9a2fb')\"\n",
              "              title=\"Convert this dataframe to an interactive table.\"\n",
              "              style=\"display:none;\">\n",
              "        \n",
              "  <svg xmlns=\"http://www.w3.org/2000/svg\" height=\"24px\"viewBox=\"0 0 24 24\"\n",
              "       width=\"24px\">\n",
              "    <path d=\"M0 0h24v24H0V0z\" fill=\"none\"/>\n",
              "    <path d=\"M18.56 5.44l.94 2.06.94-2.06 2.06-.94-2.06-.94-.94-2.06-.94 2.06-2.06.94zm-11 1L8.5 8.5l.94-2.06 2.06-.94-2.06-.94L8.5 2.5l-.94 2.06-2.06.94zm10 10l.94 2.06.94-2.06 2.06-.94-2.06-.94-.94-2.06-.94 2.06-2.06.94z\"/><path d=\"M17.41 7.96l-1.37-1.37c-.4-.4-.92-.59-1.43-.59-.52 0-1.04.2-1.43.59L10.3 9.45l-7.72 7.72c-.78.78-.78 2.05 0 2.83L4 21.41c.39.39.9.59 1.41.59.51 0 1.02-.2 1.41-.59l7.78-7.78 2.81-2.81c.8-.78.8-2.07 0-2.86zM5.41 20L4 18.59l7.72-7.72 1.47 1.35L5.41 20z\"/>\n",
              "  </svg>\n",
              "      </button>\n",
              "      \n",
              "  <style>\n",
              "    .colab-df-container {\n",
              "      display:flex;\n",
              "      flex-wrap:wrap;\n",
              "      gap: 12px;\n",
              "    }\n",
              "\n",
              "    .colab-df-convert {\n",
              "      background-color: #E8F0FE;\n",
              "      border: none;\n",
              "      border-radius: 50%;\n",
              "      cursor: pointer;\n",
              "      display: none;\n",
              "      fill: #1967D2;\n",
              "      height: 32px;\n",
              "      padding: 0 0 0 0;\n",
              "      width: 32px;\n",
              "    }\n",
              "\n",
              "    .colab-df-convert:hover {\n",
              "      background-color: #E2EBFA;\n",
              "      box-shadow: 0px 1px 2px rgba(60, 64, 67, 0.3), 0px 1px 3px 1px rgba(60, 64, 67, 0.15);\n",
              "      fill: #174EA6;\n",
              "    }\n",
              "\n",
              "    [theme=dark] .colab-df-convert {\n",
              "      background-color: #3B4455;\n",
              "      fill: #D2E3FC;\n",
              "    }\n",
              "\n",
              "    [theme=dark] .colab-df-convert:hover {\n",
              "      background-color: #434B5C;\n",
              "      box-shadow: 0px 1px 3px 1px rgba(0, 0, 0, 0.15);\n",
              "      filter: drop-shadow(0px 1px 2px rgba(0, 0, 0, 0.3));\n",
              "      fill: #FFFFFF;\n",
              "    }\n",
              "  </style>\n",
              "\n",
              "      <script>\n",
              "        const buttonEl =\n",
              "          document.querySelector('#df-b6455139-1b83-4a96-b704-c0508ca9a2fb button.colab-df-convert');\n",
              "        buttonEl.style.display =\n",
              "          google.colab.kernel.accessAllowed ? 'block' : 'none';\n",
              "\n",
              "        async function convertToInteractive(key) {\n",
              "          const element = document.querySelector('#df-b6455139-1b83-4a96-b704-c0508ca9a2fb');\n",
              "          const dataTable =\n",
              "            await google.colab.kernel.invokeFunction('convertToInteractive',\n",
              "                                                     [key], {});\n",
              "          if (!dataTable) return;\n",
              "\n",
              "          const docLinkHtml = 'Like what you see? Visit the ' +\n",
              "            '<a target=\"_blank\" href=https://colab.research.google.com/notebooks/data_table.ipynb>data table notebook</a>'\n",
              "            + ' to learn more about interactive tables.';\n",
              "          element.innerHTML = '';\n",
              "          dataTable['output_type'] = 'display_data';\n",
              "          await google.colab.output.renderOutput(dataTable, element);\n",
              "          const docLink = document.createElement('div');\n",
              "          docLink.innerHTML = docLinkHtml;\n",
              "          element.appendChild(docLink);\n",
              "        }\n",
              "      </script>\n",
              "    </div>\n",
              "  </div>\n",
              "  "
            ]
          },
          "metadata": {},
          "execution_count": 52
        }
      ],
      "source": [
        "df = pd.read_csv(\"analytical_base_table.csv\")\n",
        "print(f\"Dataframe dimensions: {df.shape}\")\n",
        "df.head()"
      ]
    },
    {
      "cell_type": "code",
      "execution_count": null,
      "metadata": {
        "id": "5Lmh4mZpHlhG"
      },
      "outputs": [],
      "source": [
        "# Training Model \n",
        "# y for the target varibale\n",
        "# X for the input features\n",
        "\n",
        "# splitting our dataframe into separate objects:"
      ]
    },
    {
      "cell_type": "code",
      "execution_count": null,
      "metadata": {
        "colab": {
          "base_uri": "https://localhost:8080/"
        },
        "id": "W9O-1NybHmeN",
        "outputId": "6522ca00-74b0-49d9-c78e-040bd89880d5"
      },
      "outputs": [
        {
          "output_type": "stream",
          "name": "stdout",
          "text": [
            "(10000, 10) (10000,)\n"
          ]
        }
      ],
      "source": [
        "# Object for target variable\n",
        "y = df.Exited\n",
        "\n",
        "# object for input features\n",
        "X = df.drop(['Exited'], axis=1)\n",
        "\n",
        "# display shapes of X and y\n",
        "print(X.shape, y.shape)"
      ]
    },
    {
      "cell_type": "code",
      "execution_count": null,
      "metadata": {
        "colab": {
          "base_uri": "https://localhost:8080/"
        },
        "id": "9pjMSPchHqQC",
        "outputId": "e3dd4755-f14f-4699-cb00-e92c93b41d19"
      },
      "outputs": [
        {
          "output_type": "execute_result",
          "data": {
            "text/plain": [
              "['CreditScore',\n",
              " 'Age',\n",
              " 'Tenure',\n",
              " 'Balance',\n",
              " 'NumOfProducts',\n",
              " 'HasCrCard',\n",
              " 'IsActiveMember',\n",
              " 'EstimatedSalary']"
            ]
          },
          "metadata": {},
          "execution_count": 55
        }
      ],
      "source": [
        "# List numerical features\n",
        "num_columns = X.select_dtypes(include='number').columns.tolist()\n",
        "num_columns"
      ]
    },
    {
      "cell_type": "code",
      "execution_count": null,
      "metadata": {
        "colab": {
          "base_uri": "https://localhost:8080/"
        },
        "id": "liNt0RbuHwiN",
        "outputId": "60cb1c05-94d6-4560-a3f1-e68b76e6c41f"
      },
      "outputs": [
        {
          "output_type": "execute_result",
          "data": {
            "text/plain": [
              "['Geography', 'Gender']"
            ]
          },
          "metadata": {},
          "execution_count": 56
        }
      ],
      "source": [
        "# List categorical features\n",
        "cat_columns = X.select_dtypes(include='object').columns.tolist()\n",
        "cat_columns"
      ]
    },
    {
      "cell_type": "code",
      "execution_count": null,
      "metadata": {
        "id": "lmiz1ptpHyzy"
      },
      "outputs": [],
      "source": [
        "def class_count(a):\n",
        "    counter=Counter(a)\n",
        "    kv=[list(counter.keys()),list(counter.values())]\n",
        "    dff = pd.DataFrame(np.array(kv).T, columns=['Exited','Count'])\n",
        "    dff['Count'] = dff['Count'].astype('int64')\n",
        "    dff['%'] = round(dff['Count'] / a.shape[0] * 100, 2)\n",
        "    return dff.sort_values('Count',ascending=False)"
      ]
    },
    {
      "cell_type": "code",
      "execution_count": null,
      "metadata": {
        "colab": {
          "base_uri": "https://localhost:8080/",
          "height": 112
        },
        "id": "8Hl11Hk5H1CR",
        "outputId": "b5c6d28c-2f0a-46ef-ce8f-32ee798587f7"
      },
      "outputs": [
        {
          "output_type": "execute_result",
          "data": {
            "text/plain": [
              "   Exited  Count      %\n",
              "1       0   7963  79.63\n",
              "0       1   2037  20.37"
            ],
            "text/html": [
              "\n",
              "  <div id=\"df-9b4a952d-32d2-4b83-aef6-4ced72ea194e\">\n",
              "    <div class=\"colab-df-container\">\n",
              "      <div>\n",
              "<style scoped>\n",
              "    .dataframe tbody tr th:only-of-type {\n",
              "        vertical-align: middle;\n",
              "    }\n",
              "\n",
              "    .dataframe tbody tr th {\n",
              "        vertical-align: top;\n",
              "    }\n",
              "\n",
              "    .dataframe thead th {\n",
              "        text-align: right;\n",
              "    }\n",
              "</style>\n",
              "<table border=\"1\" class=\"dataframe\">\n",
              "  <thead>\n",
              "    <tr style=\"text-align: right;\">\n",
              "      <th></th>\n",
              "      <th>Exited</th>\n",
              "      <th>Count</th>\n",
              "      <th>%</th>\n",
              "    </tr>\n",
              "  </thead>\n",
              "  <tbody>\n",
              "    <tr>\n",
              "      <th>1</th>\n",
              "      <td>0</td>\n",
              "      <td>7963</td>\n",
              "      <td>79.63</td>\n",
              "    </tr>\n",
              "    <tr>\n",
              "      <th>0</th>\n",
              "      <td>1</td>\n",
              "      <td>2037</td>\n",
              "      <td>20.37</td>\n",
              "    </tr>\n",
              "  </tbody>\n",
              "</table>\n",
              "</div>\n",
              "      <button class=\"colab-df-convert\" onclick=\"convertToInteractive('df-9b4a952d-32d2-4b83-aef6-4ced72ea194e')\"\n",
              "              title=\"Convert this dataframe to an interactive table.\"\n",
              "              style=\"display:none;\">\n",
              "        \n",
              "  <svg xmlns=\"http://www.w3.org/2000/svg\" height=\"24px\"viewBox=\"0 0 24 24\"\n",
              "       width=\"24px\">\n",
              "    <path d=\"M0 0h24v24H0V0z\" fill=\"none\"/>\n",
              "    <path d=\"M18.56 5.44l.94 2.06.94-2.06 2.06-.94-2.06-.94-.94-2.06-.94 2.06-2.06.94zm-11 1L8.5 8.5l.94-2.06 2.06-.94-2.06-.94L8.5 2.5l-.94 2.06-2.06.94zm10 10l.94 2.06.94-2.06 2.06-.94-2.06-.94-.94-2.06-.94 2.06-2.06.94z\"/><path d=\"M17.41 7.96l-1.37-1.37c-.4-.4-.92-.59-1.43-.59-.52 0-1.04.2-1.43.59L10.3 9.45l-7.72 7.72c-.78.78-.78 2.05 0 2.83L4 21.41c.39.39.9.59 1.41.59.51 0 1.02-.2 1.41-.59l7.78-7.78 2.81-2.81c.8-.78.8-2.07 0-2.86zM5.41 20L4 18.59l7.72-7.72 1.47 1.35L5.41 20z\"/>\n",
              "  </svg>\n",
              "      </button>\n",
              "      \n",
              "  <style>\n",
              "    .colab-df-container {\n",
              "      display:flex;\n",
              "      flex-wrap:wrap;\n",
              "      gap: 12px;\n",
              "    }\n",
              "\n",
              "    .colab-df-convert {\n",
              "      background-color: #E8F0FE;\n",
              "      border: none;\n",
              "      border-radius: 50%;\n",
              "      cursor: pointer;\n",
              "      display: none;\n",
              "      fill: #1967D2;\n",
              "      height: 32px;\n",
              "      padding: 0 0 0 0;\n",
              "      width: 32px;\n",
              "    }\n",
              "\n",
              "    .colab-df-convert:hover {\n",
              "      background-color: #E2EBFA;\n",
              "      box-shadow: 0px 1px 2px rgba(60, 64, 67, 0.3), 0px 1px 3px 1px rgba(60, 64, 67, 0.15);\n",
              "      fill: #174EA6;\n",
              "    }\n",
              "\n",
              "    [theme=dark] .colab-df-convert {\n",
              "      background-color: #3B4455;\n",
              "      fill: #D2E3FC;\n",
              "    }\n",
              "\n",
              "    [theme=dark] .colab-df-convert:hover {\n",
              "      background-color: #434B5C;\n",
              "      box-shadow: 0px 1px 3px 1px rgba(0, 0, 0, 0.15);\n",
              "      filter: drop-shadow(0px 1px 2px rgba(0, 0, 0, 0.3));\n",
              "      fill: #FFFFFF;\n",
              "    }\n",
              "  </style>\n",
              "\n",
              "      <script>\n",
              "        const buttonEl =\n",
              "          document.querySelector('#df-9b4a952d-32d2-4b83-aef6-4ced72ea194e button.colab-df-convert');\n",
              "        buttonEl.style.display =\n",
              "          google.colab.kernel.accessAllowed ? 'block' : 'none';\n",
              "\n",
              "        async function convertToInteractive(key) {\n",
              "          const element = document.querySelector('#df-9b4a952d-32d2-4b83-aef6-4ced72ea194e');\n",
              "          const dataTable =\n",
              "            await google.colab.kernel.invokeFunction('convertToInteractive',\n",
              "                                                     [key], {});\n",
              "          if (!dataTable) return;\n",
              "\n",
              "          const docLinkHtml = 'Like what you see? Visit the ' +\n",
              "            '<a target=\"_blank\" href=https://colab.research.google.com/notebooks/data_table.ipynb>data table notebook</a>'\n",
              "            + ' to learn more about interactive tables.';\n",
              "          element.innerHTML = '';\n",
              "          dataTable['output_type'] = 'display_data';\n",
              "          await google.colab.output.renderOutput(dataTable, element);\n",
              "          const docLink = document.createElement('div');\n",
              "          docLink.innerHTML = docLinkHtml;\n",
              "          element.appendChild(docLink);\n",
              "        }\n",
              "      </script>\n",
              "    </div>\n",
              "  </div>\n",
              "  "
            ]
          },
          "metadata": {},
          "execution_count": 58
        }
      ],
      "source": [
        "class_count(y)"
      ]
    },
    {
      "cell_type": "code",
      "execution_count": null,
      "metadata": {
        "id": "nUhtcOzsH5MO"
      },
      "outputs": [],
      "source": [
        "# Train-Test Split\n",
        "\n",
        "# 30% of observations will be set aside for the test set,the rest, 70%, will be used as the training set"
      ]
    },
    {
      "cell_type": "code",
      "execution_count": null,
      "metadata": {
        "colab": {
          "base_uri": "https://localhost:8080/"
        },
        "id": "YQHw6YGBH71N",
        "outputId": "076a17bc-e6bc-42e4-ab8b-4cedb79b8012"
      },
      "outputs": [
        {
          "output_type": "stream",
          "name": "stdout",
          "text": [
            "7000 3000 7000 3000\n"
          ]
        }
      ],
      "source": [
        "random_state = 10\n",
        "\n",
        "# Split X and y into train and test sets\n",
        "from sklearn.model_selection import train_test_split\n",
        "X_train, X_test, y_train, y_test = train_test_split(X, y, test_size=0.3,\n",
        "                                                    random_state=random_state,\n",
        "                                                   stratify=df.Exited)\n",
        "\n",
        "# Print number of observations in X_train, X_test, y_train, and y_test\n",
        "print(len(X_train), len(X_test), len(y_train), len(y_test))"
      ]
    },
    {
      "cell_type": "code",
      "execution_count": null,
      "metadata": {
        "colab": {
          "base_uri": "https://localhost:8080/"
        },
        "id": "A9dzfWNPH-YE",
        "outputId": "ce8a822e-c2ff-4340-877b-b1d5894e4f51"
      },
      "outputs": [
        {
          "output_type": "stream",
          "name": "stdout",
          "text": [
            "<class 'pandas.core.frame.DataFrame'>\n",
            "Int64Index: 7000 entries, 8061 to 4741\n",
            "Data columns (total 10 columns):\n",
            " #   Column           Non-Null Count  Dtype  \n",
            "---  ------           --------------  -----  \n",
            " 0   CreditScore      7000 non-null   int64  \n",
            " 1   Geography        7000 non-null   object \n",
            " 2   Gender           7000 non-null   object \n",
            " 3   Age              7000 non-null   int64  \n",
            " 4   Tenure           7000 non-null   int64  \n",
            " 5   Balance          7000 non-null   float64\n",
            " 6   NumOfProducts    7000 non-null   int64  \n",
            " 7   HasCrCard        7000 non-null   int64  \n",
            " 8   IsActiveMember   7000 non-null   int64  \n",
            " 9   EstimatedSalary  7000 non-null   float64\n",
            "dtypes: float64(2), int64(6), object(2)\n",
            "memory usage: 601.6+ KB\n"
          ]
        }
      ],
      "source": [
        "X_train.info()"
      ]
    },
    {
      "cell_type": "code",
      "execution_count": null,
      "metadata": {
        "id": "foVV0zPJID34"
      },
      "outputs": [],
      "source": [
        "# Scale numerical data and encode categorical data"
      ]
    },
    {
      "cell_type": "code",
      "execution_count": null,
      "metadata": {
        "colab": {
          "base_uri": "https://localhost:8080/"
        },
        "id": "qCWjrAugIGav",
        "outputId": "fbb78526-3106-4f35-f645-796e66d9fc54"
      },
      "outputs": [
        {
          "output_type": "stream",
          "name": "stdout",
          "text": [
            "[0, 3, 4, 5, 6, 7, 8, 9]\n"
          ]
        }
      ],
      "source": [
        "num_features = [] \n",
        "\n",
        "for i in num_columns:\n",
        "    location = X.columns.get_loc(i)\n",
        "    num_features.append(location)\n",
        "print(num_features)  "
      ]
    },
    {
      "cell_type": "code",
      "execution_count": null,
      "metadata": {
        "colab": {
          "base_uri": "https://localhost:8080/"
        },
        "id": "KoOoK0upII6x",
        "outputId": "f3eaa6a0-9e31-4b96-d714-955c43509731"
      },
      "outputs": [
        {
          "output_type": "stream",
          "name": "stdout",
          "text": [
            "[1, 2]\n"
          ]
        }
      ],
      "source": [
        "cat_features = []\n",
        "\n",
        "for i in cat_columns:\n",
        "    location = X.columns.get_loc(i)\n",
        "    cat_features.append(location)\n",
        "print(cat_features)  "
      ]
    },
    {
      "cell_type": "code",
      "execution_count": null,
      "metadata": {
        "colab": {
          "base_uri": "https://localhost:8080/"
        },
        "id": "lK_Pkfn4IL5Y",
        "outputId": "06d21856-8707-4784-bfbe-113af8d1b8d1"
      },
      "outputs": [
        {
          "output_type": "execute_result",
          "data": {
            "text/plain": [
              "ColumnTransformer(transformers=[('minmaxscaler', MinMaxScaler(),\n",
              "                                 [0, 3, 4, 5, 6, 7, 8, 9]),\n",
              "                                ('onehotencoder', OneHotEncoder(sparse=False),\n",
              "                                 [1, 2])])"
            ]
          },
          "metadata": {},
          "execution_count": 65
        }
      ],
      "source": [
        "# Define column transformer\n",
        "# Need to be numeric not string to specify columns name \n",
        "preprocess = make_column_transformer(\n",
        "    (MinMaxScaler(), num_features),\n",
        "    (OneHotEncoder(sparse=False), cat_features)\n",
        ")\n",
        "preprocess"
      ]
    },
    {
      "cell_type": "code",
      "execution_count": null,
      "metadata": {
        "id": "vV5V1qtjIPFo"
      },
      "outputs": [],
      "source": [
        "# To see the impact of SMOTE to our results, wew will first build our pipeline without SMOTE"
      ]
    },
    {
      "cell_type": "code",
      "execution_count": null,
      "metadata": {
        "colab": {
          "base_uri": "https://localhost:8080/"
        },
        "id": "anX-3NaKIRXm",
        "outputId": "a85618bb-e103-4a51-df02-4feabec96152"
      },
      "outputs": [
        {
          "output_type": "execute_result",
          "data": {
            "text/plain": [
              "Pipeline(steps=[('columntransformer',\n",
              "                 ColumnTransformer(transformers=[('minmaxscaler',\n",
              "                                                  MinMaxScaler(),\n",
              "                                                  [0, 3, 4, 5, 6, 7, 8, 9]),\n",
              "                                                 ('onehotencoder',\n",
              "                                                  OneHotEncoder(sparse=False),\n",
              "                                                  [1, 2])])),\n",
              "                ('svc', SVC(random_state=10))])"
            ]
          },
          "metadata": {},
          "execution_count": 67
        }
      ],
      "source": [
        "# Import classifier\n",
        "from sklearn.svm import SVC \n",
        "\n",
        "# Define model with pipeline\n",
        "model = imbl_pipe(preprocess,\n",
        "                  SVC(random_state=random_state))\n",
        "\n",
        "model"
      ]
    },
    {
      "cell_type": "code",
      "execution_count": null,
      "metadata": {
        "id": "20EXnEB0IVIR"
      },
      "outputs": [],
      "source": [
        "# Create the GridSearchCV model\n",
        "# Create the GridSearch estimator along with a parameter object containing the values to adjust\n",
        "from sklearn.model_selection import GridSearchCV\n",
        "\n",
        "param_grid = {'svc__kernel' : ['linear', 'rbf', 'poly', 'sigmoid'],\n",
        "              'svc__C': [0.0005,0.001, 0.01, 0.1, 0.5],\n",
        "              'svc__gamma': [5, 1, 0.1, 0.01]}\n",
        "grid = GridSearchCV(model, param_grid, verbose=3, cv= 5, n_jobs=4)"
      ]
    },
    {
      "cell_type": "code",
      "execution_count": null,
      "metadata": {
        "colab": {
          "base_uri": "https://localhost:8080/"
        },
        "id": "AgGUqrlxIXlC",
        "outputId": "e044355f-2b41-4225-f93a-fb8dcc5f32cf"
      },
      "outputs": [
        {
          "output_type": "stream",
          "name": "stdout",
          "text": [
            "Fitting 5 folds for each of 80 candidates, totalling 400 fits\n"
          ]
        },
        {
          "output_type": "execute_result",
          "data": {
            "text/plain": [
              "GridSearchCV(cv=5,\n",
              "             estimator=Pipeline(steps=[('columntransformer',\n",
              "                                        ColumnTransformer(transformers=[('minmaxscaler',\n",
              "                                                                         MinMaxScaler(),\n",
              "                                                                         [0, 3,\n",
              "                                                                          4, 5,\n",
              "                                                                          6, 7,\n",
              "                                                                          8,\n",
              "                                                                          9]),\n",
              "                                                                        ('onehotencoder',\n",
              "                                                                         OneHotEncoder(sparse=False),\n",
              "                                                                         [1,\n",
              "                                                                          2])])),\n",
              "                                       ('svc', SVC(random_state=10))]),\n",
              "             n_jobs=4,\n",
              "             param_grid={'svc__C': [0.0005, 0.001, 0.01, 0.1, 0.5],\n",
              "                         'svc__gamma': [5, 1, 0.1, 0.01],\n",
              "                         'svc__kernel': ['linear', 'rbf', 'poly', 'sigmoid']},\n",
              "             verbose=3)"
            ]
          },
          "metadata": {},
          "execution_count": 69
        }
      ],
      "source": [
        "# Train the model with GridSearch\n",
        "grid.fit(X_train, y_train)"
      ]
    },
    {
      "cell_type": "code",
      "execution_count": null,
      "metadata": {
        "colab": {
          "base_uri": "https://localhost:8080/"
        },
        "id": "Rr-R3buBIfy1",
        "outputId": "f4ba5060-7898-47f0-8655-b3645c8d8a59"
      },
      "outputs": [
        {
          "output_type": "stream",
          "name": "stdout",
          "text": [
            "{'svc__C': 0.5, 'svc__gamma': 5, 'svc__kernel': 'poly'}\n"
          ]
        }
      ],
      "source": [
        "print(grid.best_params_)"
      ]
    },
    {
      "cell_type": "code",
      "execution_count": null,
      "metadata": {
        "colab": {
          "base_uri": "https://localhost:8080/"
        },
        "id": "xhL5Xat_IkBC",
        "outputId": "756426c2-e431-4d6b-f2dc-470f2fa79bd2"
      },
      "outputs": [
        {
          "output_type": "stream",
          "name": "stdout",
          "text": [
            "0.8554285714285713\n"
          ]
        }
      ],
      "source": [
        " # List the best score\n",
        "print(grid.best_score_)"
      ]
    },
    {
      "cell_type": "code",
      "execution_count": null,
      "metadata": {
        "colab": {
          "base_uri": "https://localhost:8080/"
        },
        "id": "IKWIGIh8IlTr",
        "outputId": "1e1e156a-c1e3-428e-b7dd-3c5c51d1c419"
      },
      "outputs": [
        {
          "output_type": "stream",
          "name": "stdout",
          "text": [
            "Training Data Score: 0.8748571428571429\n",
            "Testing Data Score: 0.865\n"
          ]
        }
      ],
      "source": [
        "print(f\"Training Data Score: {grid.score(X_train, y_train)}\")\n",
        "print(f\"Testing Data Score: {grid.score(X_test, y_test)}\")"
      ]
    },
    {
      "cell_type": "code",
      "execution_count": null,
      "metadata": {
        "colab": {
          "base_uri": "https://localhost:8080/"
        },
        "id": "IqKqg2k-Inrx",
        "outputId": "bb946826-2ee7-47dd-b5bd-e4653f095e48"
      },
      "outputs": [
        {
          "output_type": "execute_result",
          "data": {
            "text/plain": [
              "array([0, 0, 0, ..., 0, 0, 0])"
            ]
          },
          "metadata": {},
          "execution_count": 73
        }
      ],
      "source": [
        "# Make predictions with the hypertuned model\n",
        "predictions = grid.predict(X_test)\n",
        "predictions"
      ]
    },
    {
      "cell_type": "code",
      "execution_count": null,
      "metadata": {
        "colab": {
          "base_uri": "https://localhost:8080/"
        },
        "id": "KtLHZlvoIptk",
        "outputId": "6830f78a-79f9-42c6-daf5-6eb1b322c3aa"
      },
      "outputs": [
        {
          "output_type": "stream",
          "name": "stdout",
          "text": [
            "[[2312   77]\n",
            " [ 328  283]]\n"
          ]
        }
      ],
      "source": [
        "# Classification metrics\n",
        "from sklearn.metrics import confusion_matrix, classification_report\n",
        "\n",
        "cm = confusion_matrix(y_test, predictions)\n",
        "print(cm)"
      ]
    },
    {
      "cell_type": "code",
      "execution_count": null,
      "metadata": {
        "colab": {
          "base_uri": "https://localhost:8080/"
        },
        "id": "vJF_rdq8Ir5s",
        "outputId": "f73eb392-db71-40c7-ac0b-f94fb2ad2149"
      },
      "outputs": [
        {
          "output_type": "stream",
          "name": "stdout",
          "text": [
            "[[0.97 0.03]\n",
            " [0.54 0.46]]\n"
          ]
        }
      ],
      "source": [
        "cm = np.around(cm / cm.sum(axis=1)[:, np.newaxis], 2)\n",
        "print(cm)"
      ]
    },
    {
      "cell_type": "code",
      "execution_count": null,
      "metadata": {
        "colab": {
          "base_uri": "https://localhost:8080/"
        },
        "id": "CeFmvqnGIt-k",
        "outputId": "54f5e08a-1743-444d-f787-b2fa45368998"
      },
      "outputs": [
        {
          "output_type": "stream",
          "name": "stdout",
          "text": [
            "              precision    recall  f1-score   support\n",
            "\n",
            "           0       0.88      0.97      0.92      2389\n",
            "           1       0.79      0.46      0.58       611\n",
            "\n",
            "    accuracy                           0.86      3000\n",
            "   macro avg       0.83      0.72      0.75      3000\n",
            "weighted avg       0.86      0.86      0.85      3000\n",
            "\n"
          ]
        }
      ],
      "source": [
        "print(classification_report(y_test, predictions))"
      ]
    },
    {
      "cell_type": "code",
      "execution_count": null,
      "metadata": {
        "colab": {
          "base_uri": "https://localhost:8080/"
        },
        "id": "seGd-lxCIwB8",
        "outputId": "f65784e5-495e-44d8-8e79-5641b8df964c"
      },
      "outputs": [
        {
          "output_type": "execute_result",
          "data": {
            "text/plain": [
              "array([0, 0, 0, ..., 0, 0, 0])"
            ]
          },
          "metadata": {},
          "execution_count": 77
        }
      ],
      "source": [
        "predictions"
      ]
    },
    {
      "cell_type": "code",
      "execution_count": null,
      "metadata": {
        "id": "CuOhbIphIy1M"
      },
      "outputs": [],
      "source": [
        "pred = grid.predict(X_test[:1])"
      ]
    },
    {
      "cell_type": "code",
      "execution_count": null,
      "metadata": {
        "colab": {
          "base_uri": "https://localhost:8080/"
        },
        "id": "talB4cJjI1Ul",
        "outputId": "586223db-58f6-4884-f1e0-a331828fef41"
      },
      "outputs": [
        {
          "output_type": "stream",
          "name": "stdout",
          "text": [
            "Predicted classes: [0]\n",
            "Actual Labels: [1]\n"
          ]
        }
      ],
      "source": [
        "print(f\"Predicted classes: {pred}\")\n",
        "print(f\"Actual Labels: {list(y_test[:1])}\")"
      ]
    },
    {
      "cell_type": "markdown",
      "metadata": {
        "id": "RoKNTmTyJKMr"
      },
      "source": [
        "Build Model Pipeline with SMOTE\n",
        "Let's check now the impact of SMOTE to our results\n",
        "\n",
        "We are going to use the Pipeline from the imblearn package in place of scikit-learn Pipeline.\n",
        "\n",
        "It takes care automatically to re-sample when called fit() on the pipeline, and does not re-sample test data (when called transform() or predict())."
      ]
    },
    {
      "cell_type": "code",
      "execution_count": null,
      "metadata": {
        "colab": {
          "base_uri": "https://localhost:8080/"
        },
        "id": "xbaeDsUzJLe4",
        "outputId": "b2ccf935-0ac8-40b7-a034-488633be1bfb"
      },
      "outputs": [
        {
          "output_type": "execute_result",
          "data": {
            "text/plain": [
              "Pipeline(steps=[('columntransformer',\n",
              "                 ColumnTransformer(transformers=[('minmaxscaler',\n",
              "                                                  MinMaxScaler(),\n",
              "                                                  [0, 3, 4, 5, 6, 7, 8, 9]),\n",
              "                                                 ('onehotencoder',\n",
              "                                                  OneHotEncoder(sparse=False),\n",
              "                                                  [1, 2])])),\n",
              "                ('smote', SMOTE(random_state=10)),\n",
              "                ('svc', SVC(random_state=10))])"
            ]
          },
          "metadata": {},
          "execution_count": 80
        }
      ],
      "source": [
        "# Import classifier\n",
        "from sklearn.svm import SVC \n",
        "\n",
        "# Define model with pipeline\n",
        "model_s = imbl_pipe(preprocess,\n",
        "                  SMOTE(sampling_strategy='auto', random_state=random_state),\n",
        "                  SVC(random_state=random_state))\n",
        "\n",
        "model_s"
      ]
    },
    {
      "cell_type": "code",
      "execution_count": null,
      "metadata": {
        "id": "z_kjVncEJPse"
      },
      "outputs": [],
      "source": [
        "# Create the GridSearchCV model\n",
        "# Create the GridSearch estimator along with a parameter object containing the values to adjust\n",
        "from sklearn.model_selection import GridSearchCV\n",
        "\n",
        "param_grid = {'svc__kernel' : ['linear', 'rbf', 'poly', 'sigmoid'],\n",
        "              'svc__C': [0.0005,0.001, 0.01, 0.1, 0.5],\n",
        "              'svc__gamma': [5, 1, 0.1, 0.01]}\n",
        "grid_s = GridSearchCV(model_s, param_grid, verbose=3, cv= 5, n_jobs=4)"
      ]
    },
    {
      "cell_type": "code",
      "execution_count": null,
      "metadata": {
        "colab": {
          "base_uri": "https://localhost:8080/"
        },
        "id": "IURWCLj0JR-T",
        "outputId": "a27128f9-0edd-4a52-dd5b-006d266a1849"
      },
      "outputs": [
        {
          "output_type": "stream",
          "name": "stdout",
          "text": [
            "Fitting 5 folds for each of 80 candidates, totalling 400 fits\n"
          ]
        },
        {
          "output_type": "execute_result",
          "data": {
            "text/plain": [
              "GridSearchCV(cv=5,\n",
              "             estimator=Pipeline(steps=[('columntransformer',\n",
              "                                        ColumnTransformer(transformers=[('minmaxscaler',\n",
              "                                                                         MinMaxScaler(),\n",
              "                                                                         [0, 3,\n",
              "                                                                          4, 5,\n",
              "                                                                          6, 7,\n",
              "                                                                          8,\n",
              "                                                                          9]),\n",
              "                                                                        ('onehotencoder',\n",
              "                                                                         OneHotEncoder(sparse=False),\n",
              "                                                                         [1,\n",
              "                                                                          2])])),\n",
              "                                       ('smote', SMOTE(random_state=10)),\n",
              "                                       ('svc', SVC(random_state=10))]),\n",
              "             n_jobs=4,\n",
              "             param_grid={'svc__C': [0.0005, 0.001, 0.01, 0.1, 0.5],\n",
              "                         'svc__gamma': [5, 1, 0.1, 0.01],\n",
              "                         'svc__kernel': ['linear', 'rbf', 'poly', 'sigmoid']},\n",
              "             verbose=3)"
            ]
          },
          "metadata": {},
          "execution_count": 82
        }
      ],
      "source": [
        "# Train the model with GridSearch\n",
        "grid_s.fit(X_train, y_train)"
      ]
    },
    {
      "cell_type": "code",
      "execution_count": null,
      "metadata": {
        "colab": {
          "base_uri": "https://localhost:8080/"
        },
        "id": "O0dV2o_uJUyx",
        "outputId": "a41b71e6-7d72-46e6-c744-f6d11056643b"
      },
      "outputs": [
        {
          "output_type": "stream",
          "name": "stdout",
          "text": [
            "{'svc__C': 0.5, 'svc__gamma': 5, 'svc__kernel': 'poly'}\n"
          ]
        }
      ],
      "source": [
        "print(grid_s.best_params_)"
      ]
    },
    {
      "cell_type": "code",
      "execution_count": null,
      "metadata": {
        "id": "9-pJoeRfJdKG",
        "colab": {
          "base_uri": "https://localhost:8080/"
        },
        "outputId": "01eac4fe-5eb5-4f2f-f75c-a9bbf54e3e64"
      },
      "outputs": [
        {
          "output_type": "stream",
          "name": "stdout",
          "text": [
            "0.7862857142857143\n"
          ]
        }
      ],
      "source": [
        " # List the best score\n",
        "print(grid_s.best_score_)"
      ]
    },
    {
      "cell_type": "code",
      "execution_count": null,
      "metadata": {
        "id": "OAc-xDryJhFt",
        "colab": {
          "base_uri": "https://localhost:8080/"
        },
        "outputId": "701bd14c-18ac-4ad7-a03c-4a9b9f017db1"
      },
      "outputs": [
        {
          "output_type": "stream",
          "name": "stdout",
          "text": [
            "Training Data Score: 0.8111428571428572\n",
            "Testing Data Score: 0.7756666666666666\n"
          ]
        }
      ],
      "source": [
        "print(f\"Training Data Score: {grid_s.score(X_train, y_train)}\")\n",
        "print(f\"Testing Data Score: {grid_s.score(X_test, y_test)}\")"
      ]
    },
    {
      "cell_type": "code",
      "execution_count": null,
      "metadata": {
        "id": "5dI6r2t6JiF5",
        "colab": {
          "base_uri": "https://localhost:8080/"
        },
        "outputId": "b2df7901-6b51-42e0-c822-31d7791dee5a"
      },
      "outputs": [
        {
          "output_type": "execute_result",
          "data": {
            "text/plain": [
              "array([1, 0, 0, ..., 1, 0, 0])"
            ]
          },
          "metadata": {},
          "execution_count": 86
        }
      ],
      "source": [
        "# Make predictions with the hypertuned model\n",
        "predictions_s = grid_s.predict(X_test)\n",
        "predictions_s\n"
      ]
    },
    {
      "cell_type": "code",
      "execution_count": null,
      "metadata": {
        "id": "5ax9a2fTJpiE",
        "colab": {
          "base_uri": "https://localhost:8080/"
        },
        "outputId": "278e23c7-a835-4b93-d807-76599ce069f8"
      },
      "outputs": [
        {
          "output_type": "execute_result",
          "data": {
            "text/plain": [
              "array([1, 0, 0, ..., 1, 0, 0])"
            ]
          },
          "metadata": {},
          "execution_count": 87
        }
      ],
      "source": [
        "# Make predictions with the hypertuned model\n",
        "predictions_s = grid_s.predict(X_test)\n",
        "predictions_s"
      ]
    },
    {
      "cell_type": "code",
      "execution_count": null,
      "metadata": {
        "id": "kzrHEX-nJrnr",
        "colab": {
          "base_uri": "https://localhost:8080/"
        },
        "outputId": "34d0238a-33f6-4eb4-d18c-2571fc702cd7"
      },
      "outputs": [
        {
          "output_type": "stream",
          "name": "stdout",
          "text": [
            "[[0.97 0.03]\n",
            " [0.54 0.46]]\n"
          ]
        }
      ],
      "source": [
        "cm = np.around(cm / cm.sum(axis=1)[:, np.newaxis], 2)\n",
        "print(cm)"
      ]
    },
    {
      "cell_type": "code",
      "execution_count": null,
      "metadata": {
        "id": "UZPXaxTpJvNs",
        "colab": {
          "base_uri": "https://localhost:8080/"
        },
        "outputId": "7680fa3d-5f2e-4c61-8d65-cfb42973913a"
      },
      "outputs": [
        {
          "output_type": "stream",
          "name": "stdout",
          "text": [
            "              precision    recall  f1-score   support\n",
            "\n",
            "           0       0.92      0.78      0.85      2389\n",
            "           1       0.47      0.74      0.57       611\n",
            "\n",
            "    accuracy                           0.78      3000\n",
            "   macro avg       0.70      0.76      0.71      3000\n",
            "weighted avg       0.83      0.78      0.79      3000\n",
            "\n"
          ]
        }
      ],
      "source": [
        "print(classification_report(y_test, predictions_s))"
      ]
    },
    {
      "cell_type": "code",
      "execution_count": null,
      "metadata": {
        "id": "Mk4EDgZ5JxP4",
        "colab": {
          "base_uri": "https://localhost:8080/"
        },
        "outputId": "9ec74181-1ec5-42ce-8d58-0c6e087bb12f"
      },
      "outputs": [
        {
          "output_type": "execute_result",
          "data": {
            "text/plain": [
              "array([1, 0, 0, ..., 1, 0, 0])"
            ]
          },
          "metadata": {},
          "execution_count": 90
        }
      ],
      "source": [
        "predictions_s"
      ]
    },
    {
      "cell_type": "code",
      "execution_count": null,
      "metadata": {
        "id": "TAq50bKvJx2L",
        "colab": {
          "base_uri": "https://localhost:8080/"
        },
        "outputId": "60a8666f-e2cc-4b11-d72b-50d4e81bbf67"
      },
      "outputs": [
        {
          "output_type": "stream",
          "name": "stdout",
          "text": [
            "Predicted classes: [0]\n",
            "Actual Labels: [1]\n"
          ]
        }
      ],
      "source": [
        "pred_s = grid.predict(X_test[:1])\n",
        "print(f\"Predicted classes: {pred_s}\")\n",
        "print(f\"Actual Labels: {list(y_test[:1])}\")"
      ]
    },
    {
      "cell_type": "code",
      "execution_count": null,
      "metadata": {
        "id": "VMXpn08NJ2OF",
        "colab": {
          "base_uri": "https://localhost:8080/"
        },
        "outputId": "b75872f6-f2c1-4ea7-8ede-c6779698739a"
      },
      "outputs": [
        {
          "output_type": "execute_result",
          "data": {
            "text/plain": [
              "['SVM_model_s.sav']"
            ]
          },
          "metadata": {},
          "execution_count": 92
        }
      ],
      "source": [
        "import joblib\n",
        "\n",
        "# We are saving our grid model\n",
        "filename_nos = '../models/SVM_model_nos.sav'\n",
        "joblib.dump(grid, filename_nos)\n",
        "filename_s = '../models/SVM_model_s.sav'\n",
        "joblib.dump(grid_s, filename_s)"
      ]
    },
    {
      "cell_type": "code",
      "execution_count": null,
      "metadata": {
        "id": "wfG6kQjYJ5R8",
        "colab": {
          "base_uri": "https://localhost:8080/"
        },
        "outputId": "d8f7e142-e3ee-4835-e716-0d7c71f0dc30"
      },
      "outputs": [
        {
          "output_type": "stream",
          "name": "stdout",
          "text": [
            "0.865\n",
            "0.7756666666666666\n"
          ]
        }
      ],
      "source": [
        "# load the models\n",
        "svm_model_nos = joblib.load(filename_nos)\n",
        "print(svm_model_nos.score(X_test, y_test))\n",
        "\n",
        "svm_model_s = joblib.load(filename_s)\n",
        "print(svm_model_s.score(X_test, y_test))"
      ]
    }
  ],
  "metadata": {
    "colab": {
      "name": "SVM Model-SMOTE-Impact.ipynb",
      "provenance": []
    },
    "kernelspec": {
      "display_name": "Python 3",
      "name": "python3"
    },
    "language_info": {
      "name": "python"
    }
  },
  "nbformat": 4,
  "nbformat_minor": 0
}